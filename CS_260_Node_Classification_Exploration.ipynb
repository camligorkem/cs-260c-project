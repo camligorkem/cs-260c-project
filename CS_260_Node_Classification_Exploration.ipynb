{
  "nbformat": 4,
  "nbformat_minor": 0,
  "metadata": {
    "colab": {
      "name": "CS 260 Node Classification Exploration.ipynb",
      "provenance": [],
      "collapsed_sections": []
    },
    "kernelspec": {
      "name": "python3",
      "display_name": "Python 3"
    }
  },
  "cells": [
    {
      "cell_type": "code",
      "metadata": {
        "id": "F1op-CbyLuN4",
        "colab": {
          "base_uri": "https://localhost:8080/"
        },
        "outputId": "2c782f6a-b40b-46f0-9990-2d21164119bf"
      },
      "source": [
        "# Install required packages.\n",
        "!pip install -q torch-scatter -f https://data.pyg.org/whl/torch-1.10.0+cu113.html\n",
        "!pip install -q torch-sparse -f https://data.pyg.org/whl/torch-1.10.0+cu113.html\n",
        "!pip install -q git+https://github.com/pyg-team/pytorch_geometric.git\n",
        "\n",
        "# Helper function for visualization.\n",
        "%matplotlib inline\n",
        "import matplotlib.pyplot as plt\n",
        "from sklearn.manifold import TSNE\n",
        "\n",
        "def visualize(h, color):\n",
        "    z = TSNE(n_components=2).fit_transform(h.detach().cpu().numpy())\n",
        "\n",
        "    plt.figure(figsize=(10,10))\n",
        "    plt.xticks([])\n",
        "    plt.yticks([])\n",
        "\n",
        "    plt.scatter(z[:, 0], z[:, 1], s=70, c=color, cmap=\"Set2\")\n",
        "    plt.show()"
      ],
      "execution_count": null,
      "outputs": [
        {
          "output_type": "stream",
          "name": "stdout",
          "text": [
            "\u001b[K     |████████████████████████████████| 7.9 MB 6.4 MB/s \n"
          ]
        }
      ]
    },
    {
      "cell_type": "code",
      "source": [
        "import torch \n",
        "import numpy as np\n",
        "import math\n",
        "\n",
        "\n",
        "from torch_geometric.utils import degree\n",
        "import torch_geometric\n",
        "import torch_geometric.utils as tg_utils"
      ],
      "metadata": {
        "id": "5zzyCFITsi1f"
      },
      "execution_count": null,
      "outputs": []
    },
    {
      "cell_type": "code",
      "source": [
        "!rm -r data"
      ],
      "metadata": {
        "colab": {
          "base_uri": "https://localhost:8080/"
        },
        "id": "4XbHNyORvbNu",
        "outputId": "6730a6aa-7b79-49fa-91ef-b4e6905ea6e9"
      },
      "execution_count": null,
      "outputs": [
        {
          "output_type": "stream",
          "name": "stdout",
          "text": [
            "rm: cannot remove 'data': No such file or directory\n"
          ]
        }
      ]
    },
    {
      "cell_type": "code",
      "metadata": {
        "id": "imGrKO5YH11-",
        "colab": {
          "base_uri": "https://localhost:8080/"
        },
        "outputId": "fe3eb682-f2c4-4fb3-cada-8d147cf9625b"
      },
      "source": [
        "from torch_geometric.datasets import Planetoid\n",
        "from torch_geometric.transforms import NormalizeFeatures\n",
        "\n",
        "dataset = Planetoid(root='data/Planetoid', name='Cora', transform=NormalizeFeatures())\n",
        "\n",
        "print()\n",
        "print(f'Dataset: {dataset}:')\n",
        "print('======================')\n",
        "print(f'Number of graphs: {len(dataset)}')\n",
        "print(f'Number of features: {dataset.num_features}')\n",
        "print(f'Number of classes: {dataset.num_classes}')\n",
        "\n",
        "data = dataset[0]  # Get the first graph object.\n",
        "\n",
        "print()\n",
        "print(data)\n",
        "print('===========================================================================================================')\n",
        "\n",
        "# Gather some statistics about the graph.\n",
        "print(f'Number of nodes: {data.num_nodes}')\n",
        "print(f'Number of edges: {data.num_edges}')\n",
        "print(f'Average node degree: {data.num_edges / data.num_nodes:.2f}')\n",
        "print(f'Number of training nodes: {data.train_mask.sum()}')\n",
        "print(f'Training node label rate: {int(data.train_mask.sum()) / data.num_nodes:.2f}')\n",
        "print(f'Has isolated nodes: {data.has_isolated_nodes()}')\n",
        "print(f'Has self-loops: {data.has_self_loops()}')\n",
        "print(f'Is undirected: {data.is_undirected()}')"
      ],
      "execution_count": null,
      "outputs": [
        {
          "output_type": "stream",
          "name": "stdout",
          "text": [
            "\n",
            "Dataset: Cora():\n",
            "======================\n",
            "Number of graphs: 1\n",
            "Number of features: 1433\n",
            "Number of classes: 7\n",
            "\n",
            "Data(x=[2708, 1433], edge_index=[2, 10556], y=[2708], train_mask=[2708], val_mask=[2708], test_mask=[2708])\n",
            "===========================================================================================================\n",
            "Number of nodes: 2708\n",
            "Number of edges: 10556\n",
            "Average node degree: 3.90\n",
            "Number of training nodes: 140\n",
            "Training node label rate: 0.05\n",
            "Has isolated nodes: False\n",
            "Has self-loops: False\n",
            "Is undirected: True\n"
          ]
        }
      ]
    },
    {
      "cell_type": "code",
      "source": [
        "data"
      ],
      "metadata": {
        "colab": {
          "base_uri": "https://localhost:8080/"
        },
        "id": "pjczKOknxmZ6",
        "outputId": "483a04ad-af78-4ed5-e46c-6b637ccad391"
      },
      "execution_count": null,
      "outputs": [
        {
          "output_type": "execute_result",
          "data": {
            "text/plain": [
              "Data(x=[2708, 1433], edge_index=[2, 10556], y=[2708], train_mask=[2708], val_mask=[2708], test_mask=[2708])"
            ]
          },
          "metadata": {},
          "execution_count": 5
        }
      ]
    },
    {
      "cell_type": "code",
      "source": [
        "data.x"
      ],
      "metadata": {
        "colab": {
          "base_uri": "https://localhost:8080/"
        },
        "id": "s17HUi5txtYd",
        "outputId": "f1701ca7-e251-4228-e420-3030dfe9a0e0"
      },
      "execution_count": null,
      "outputs": [
        {
          "output_type": "execute_result",
          "data": {
            "text/plain": [
              "tensor([[0., 0., 0.,  ..., 0., 0., 0.],\n",
              "        [0., 0., 0.,  ..., 0., 0., 0.],\n",
              "        [0., 0., 0.,  ..., 0., 0., 0.],\n",
              "        ...,\n",
              "        [0., 0., 0.,  ..., 0., 0., 0.],\n",
              "        [0., 0., 0.,  ..., 0., 0., 0.],\n",
              "        [0., 0., 0.,  ..., 0., 0., 0.]])"
            ]
          },
          "metadata": {},
          "execution_count": 10
        }
      ]
    },
    {
      "cell_type": "code",
      "source": [
        "data.edge_index"
      ],
      "metadata": {
        "colab": {
          "base_uri": "https://localhost:8080/"
        },
        "id": "9WrQIZpnxtkZ",
        "outputId": "3118134c-8721-4be8-8806-25edfadb0e6f"
      },
      "execution_count": null,
      "outputs": [
        {
          "output_type": "execute_result",
          "data": {
            "text/plain": [
              "tensor([[   0,    0,    0,  ..., 2707, 2707, 2707],\n",
              "        [ 633, 1862, 2582,  ...,  598, 1473, 2706]])"
            ]
          },
          "metadata": {},
          "execution_count": 62
        }
      ]
    },
    {
      "cell_type": "code",
      "source": [
        "edge = data.edge_index.T\n",
        "randNum = torch.rand(2) * 100000 % 2706\n",
        "a = randNum.to(int)\n",
        "print(a)\n",
        "print(torch.flip(a, [0]))\n"
      ],
      "metadata": {
        "colab": {
          "base_uri": "https://localhost:8080/"
        },
        "id": "_NlXArgt19Uy",
        "outputId": "ac50badf-7863-407c-9cef-71028c5f24fc"
      },
      "execution_count": null,
      "outputs": [
        {
          "output_type": "stream",
          "name": "stdout",
          "text": [
            "tensor([ 328, 2491])\n",
            "tensor([2491,  328])\n"
          ]
        }
      ]
    },
    {
      "cell_type": "code",
      "source": [
        "zeros = torch.zeros(data.x.shape)\n",
        "ones = torch.ones(data.x.shape)\n",
        "\n",
        "noise = (0.1**0.5)*torch.randn(data.x.shape)\n",
        "print(noise.shape)"
      ],
      "metadata": {
        "colab": {
          "base_uri": "https://localhost:8080/"
        },
        "id": "4IBAkLu2wrNo",
        "outputId": "7eb1f864-4215-4411-c94d-851679f416b1"
      },
      "execution_count": null,
      "outputs": [
        {
          "output_type": "stream",
          "name": "stdout",
          "text": [
            "torch.Size([2708, 1433])\n"
          ]
        }
      ]
    },
    {
      "cell_type": "code",
      "source": [
        "def get_masked_noise(x,  noise_level=0.15):\n",
        "  noise_added_node_num = int(noise_level * x.shape[0])\n",
        "  chose_random_rows = np.random.choice(x.shape[0], noise_added_node_num, replace=False)\n",
        "  #print(chose_random_rows)\n",
        "  mask_rows = torch.zeros(x.shape)\n",
        "  mask_rows[chose_random_rows,:] = torch.ones(1, x.shape[1])\n",
        "  noise = (0.1**0.5)*torch.randn(x.shape)\n",
        "  masked_noise = noise* mask_rows.int().float()\n",
        "\n",
        "  #print(mask_rows)\n",
        "  #print(noise)\n",
        "  #print(masked_noise)\n",
        "  return masked_noise"
      ],
      "metadata": {
        "id": "W45Hs6203FyL"
      },
      "execution_count": null,
      "outputs": []
    },
    {
      "cell_type": "code",
      "source": [
        "# data_noisy = data\n",
        "data.x_noisy = data.x + noise\n",
        "data.x_zeros = zeros\n",
        "data.x_ones = ones\n",
        "\n",
        "for noise_level in [0.15, 0.3, 0.45, 0.6, 0.9, 0.95, 0.99]:\n",
        "  masked_noise = get_masked_noise(x=data.x,  noise_level=noise_level)\n",
        "  data[f'x_noisy_n_{noise_level}'] = data.x + masked_noise"
      ],
      "metadata": {
        "id": "TKxSBOCeqSK2"
      },
      "execution_count": null,
      "outputs": []
    },
    {
      "cell_type": "code",
      "source": [
        "# Add 15% noise over all features\n",
        "mask = torch.randn((3, 5)) < 0.15\n",
        "noise = (0.1**0.5)*torch.randn(3,5)\n",
        "masked_noise = noise* mask.int().float()\n",
        "\n",
        "print(mask)\n",
        "print(noise)\n",
        "print(masked_noise)"
      ],
      "metadata": {
        "colab": {
          "base_uri": "https://localhost:8080/"
        },
        "id": "UTTeLDepx2hh",
        "outputId": "ace9847d-e65f-4414-ff4c-58867a45ce0f"
      },
      "execution_count": null,
      "outputs": [
        {
          "output_type": "stream",
          "name": "stdout",
          "text": [
            "tensor([[ True,  True,  True, False,  True],\n",
            "        [False, False, False, False, False],\n",
            "        [False,  True, False,  True,  True]])\n",
            "tensor([[-0.3573, -0.3100,  0.1069, -0.2587, -0.2220],\n",
            "        [ 0.3067,  0.0627,  0.2165, -0.1292,  0.1462],\n",
            "        [ 0.2164, -0.3841, -0.1794, -1.0503, -0.0371]])\n",
            "tensor([[-0.3573, -0.3100,  0.1069, -0.0000, -0.2220],\n",
            "        [ 0.0000,  0.0000,  0.0000, -0.0000,  0.0000],\n",
            "        [ 0.0000, -0.3841, -0.0000, -1.0503, -0.0371]])\n"
          ]
        }
      ]
    },
    {
      "cell_type": "code",
      "source": [
        "# Add noise on 15% of nodes\n",
        "chose_random_rows = np.random.choice(5, 2, replace=False)\n",
        "print(chose_random_rows)\n",
        "mask_rows = torch.zeros((5,3))\n",
        "mask_rows[chose_random_rows,:] = torch.ones(1, 3)\n",
        "noise = (0.1**0.5)*torch.randn(5,3)\n",
        "masked_noise = noise* mask_rows.int().float()\n",
        "\n",
        "print(mask_rows)\n",
        "print(noise)\n",
        "print(masked_noise)"
      ],
      "metadata": {
        "colab": {
          "base_uri": "https://localhost:8080/"
        },
        "id": "UqWXBDdk0BCj",
        "outputId": "7d11c00a-f20a-40f5-e709-1a6d53f27ea2"
      },
      "execution_count": null,
      "outputs": [
        {
          "output_type": "stream",
          "name": "stdout",
          "text": [
            "[4 3]\n",
            "tensor([[0., 0., 0.],\n",
            "        [0., 0., 0.],\n",
            "        [0., 0., 0.],\n",
            "        [1., 1., 1.],\n",
            "        [1., 1., 1.]])\n",
            "tensor([[-0.0617,  0.1535, -0.4385],\n",
            "        [-0.1377,  0.5825,  0.2581],\n",
            "        [ 0.0058, -0.0732, -0.1255],\n",
            "        [-0.0478,  0.0815,  0.2327],\n",
            "        [-0.5016,  0.2203,  0.0815]])\n",
            "tensor([[-0.0000,  0.0000, -0.0000],\n",
            "        [-0.0000,  0.0000,  0.0000],\n",
            "        [ 0.0000, -0.0000, -0.0000],\n",
            "        [-0.0478,  0.0815,  0.2327],\n",
            "        [-0.5016,  0.2203,  0.0815]])\n"
          ]
        }
      ]
    },
    {
      "cell_type": "markdown",
      "metadata": {
        "id": "5IRdAELVKOl6"
      },
      "source": [
        "## Training a Multi-layer Perception Network (MLP)\n"
      ]
    },
    {
      "cell_type": "code",
      "metadata": {
        "id": "afXwPCA3KNoC",
        "colab": {
          "base_uri": "https://localhost:8080/"
        },
        "outputId": "82e96da7-52e3-4f3a-a98c-6f2a15a1c0ed"
      },
      "source": [
        "import torch\n",
        "from torch.nn import Linear\n",
        "import torch.nn.functional as F\n",
        "\n",
        "\n",
        "class MLP(torch.nn.Module):\n",
        "    def __init__(self, hidden_channels):\n",
        "        super().__init__()\n",
        "        torch.manual_seed(12345)\n",
        "        self.lin1 = Linear(dataset.num_features, hidden_channels)\n",
        "        self.lin2 = Linear(hidden_channels, dataset.num_classes)\n",
        "\n",
        "    def forward(self, x):\n",
        "        x = self.lin1(x)\n",
        "        x = x.relu()\n",
        "        x = F.dropout(x, p=0.5, training=self.training)\n",
        "        x = self.lin2(x)\n",
        "        return x\n",
        "\n",
        "model = MLP(hidden_channels=16)\n",
        "print(model)"
      ],
      "execution_count": null,
      "outputs": [
        {
          "output_type": "stream",
          "name": "stdout",
          "text": [
            "MLP(\n",
            "  (lin1): Linear(in_features=1433, out_features=16, bias=True)\n",
            "  (lin2): Linear(in_features=16, out_features=7, bias=True)\n",
            ")\n"
          ]
        }
      ]
    },
    {
      "cell_type": "code",
      "metadata": {
        "id": "0YgHcLXMLk4o",
        "colab": {
          "base_uri": "https://localhost:8080/",
          "height": 17
        },
        "outputId": "fad73856-d349-4523-ebe7-282c3280f867"
      },
      "source": [
        "from IPython.display import Javascript  # Restrict height of output cell.\n",
        "display(Javascript('''google.colab.output.setIframeHeight(0, true, {maxHeight: 300})'''))\n",
        "\n",
        "criterion = torch.nn.CrossEntropyLoss()  # Define loss criterion.\n",
        "\n",
        "def train(model, optimizer, x_type='x'):\n",
        "      model.train()\n",
        "      optimizer.zero_grad()  # Clear gradients.\n",
        "      out = model(data[x_type])  # Perform a single forward pass.\n",
        "      loss = criterion(out[data.train_mask], data.y[data.train_mask])  # Compute the loss solely based on the training nodes.\n",
        "      loss.backward()  # Derive gradients.\n",
        "      optimizer.step()  # Update parameters based on gradients.\n",
        "      return loss\n",
        "\n",
        "def test(model, x_type='x'):\n",
        "      model.eval()\n",
        "      out = model(data[x_type])\n",
        "      pred = out.argmax(dim=1)  # Use the class with highest probability.\n",
        "      test_correct = pred[data.test_mask] == data.y[data.test_mask]  # Check against ground-truth labels.\n",
        "      test_acc = int(test_correct.sum()) / int(data.test_mask.sum())  # Derive ratio of correct predictions.\n",
        "      return test_acc"
      ],
      "execution_count": null,
      "outputs": [
        {
          "output_type": "display_data",
          "data": {
            "application/javascript": [
              "google.colab.output.setIframeHeight(0, true, {maxHeight: 300})"
            ],
            "text/plain": [
              "<IPython.core.display.Javascript object>"
            ]
          },
          "metadata": {}
        }
      ]
    },
    {
      "cell_type": "code",
      "source": [
        "model1 = MLP(hidden_channels=16)\n",
        "x_type='x'\n",
        "for epoch in range(1, 201):\n",
        "    loss = train(x_type=x_type)\n",
        "    #print(f'Epoch: {epoch:03d}, Loss: {loss:.4f}')\n",
        "test_acc = test(x_type=x_type)\n",
        "print(f'Test Accuracy: {test_acc:.4f}')"
      ],
      "metadata": {
        "colab": {
          "base_uri": "https://localhost:8080/"
        },
        "id": "EDB20bdlt5-g",
        "outputId": "d1128e02-be84-4ee7-e99d-ad7e74d596f9"
      },
      "execution_count": null,
      "outputs": [
        {
          "output_type": "stream",
          "name": "stdout",
          "text": [
            "Test Accuracy: 0.6990\n"
          ]
        }
      ]
    },
    {
      "cell_type": "markdown",
      "source": [
        "## MLP different X features noise levels"
      ],
      "metadata": {
        "id": "Aa3SpMMG89Bf"
      }
    },
    {
      "cell_type": "code",
      "source": [
        "noise_levels = [0.15, 0.3, 0.45, 0.6, 0.9, 0.95, 0.99]\n",
        "x_noises =[f'x_noisy_n_{x}' for x in noise_levels ]\n",
        "\n",
        "x_types=['x', 'x_noisy', 'x_ones'] +x_noises+['x']\n",
        "for x_type in x_types:\n",
        "  model = MLP(hidden_channels=16)\n",
        "  optimizer = torch.optim.Adam(model.parameters(), lr=0.01, weight_decay=5e-4)  # Define optimizer.\n",
        "  for epoch in range(1, 201):\n",
        "      loss = train(model, optimizer, x_type=x_type)\n",
        "      #print(f'Epoch: {epoch:03d}, Loss: {loss:.4f}')\n",
        "  test_acc = test(model, x_type=x_type)\n",
        "  print(f'{x_type} Test Accuracy: {test_acc:.4f}')\n"
      ],
      "metadata": {
        "colab": {
          "base_uri": "https://localhost:8080/"
        },
        "id": "L_zyqx1z8bSU",
        "outputId": "7be242f9-48bc-4275-f980-d93ac2109b8e"
      },
      "execution_count": null,
      "outputs": [
        {
          "output_type": "stream",
          "name": "stdout",
          "text": [
            "x Test Accuracy: 0.5900\n",
            "x_noisy Test Accuracy: 0.1590\n",
            "x_ones Test Accuracy: 0.0640\n",
            "x_noisy_n_0.15 Test Accuracy: 0.5130\n",
            "x_noisy_n_0.3 Test Accuracy: 0.4380\n",
            "x_noisy_n_0.45 Test Accuracy: 0.3380\n",
            "x_noisy_n_0.6 Test Accuracy: 0.3130\n",
            "x_noisy_n_0.9 Test Accuracy: 0.1600\n",
            "x_noisy_n_0.95 Test Accuracy: 0.1740\n",
            "x_noisy_n_0.99 Test Accuracy: 0.1350\n",
            "x Test Accuracy: 0.5900\n"
          ]
        }
      ]
    },
    {
      "cell_type": "markdown",
      "source": [
        "# GCN"
      ],
      "metadata": {
        "id": "u6ha4d_w9CQR"
      }
    },
    {
      "cell_type": "code",
      "metadata": {
        "id": "fmXWs1dKIzD8",
        "colab": {
          "base_uri": "https://localhost:8080/"
        },
        "outputId": "d1366ed0-d6be-426d-d41b-ba94dfbe4d12"
      },
      "source": [
        "from torch_geometric.nn import GCNConv\n",
        "\n",
        "class GCN(torch.nn.Module):\n",
        "    def __init__(self, hidden_channels):\n",
        "        super().__init__()\n",
        "        torch.manual_seed(1234567)\n",
        "        self.conv1 = GCNConv(dataset.num_features, hidden_channels)\n",
        "        self.conv2 = GCNConv(hidden_channels, dataset.num_classes)\n",
        "\n",
        "    def forward(self, x, edge_index):\n",
        "        x = self.conv1(x, edge_index)\n",
        "        x = x.relu()\n",
        "        x = F.dropout(x, p=0.5, training=self.training)\n",
        "        x = self.conv2(x, edge_index)\n",
        "        return x\n",
        "\n",
        "model = GCN(hidden_channels=16)\n",
        "print(model)"
      ],
      "execution_count": null,
      "outputs": [
        {
          "output_type": "stream",
          "name": "stdout",
          "text": [
            "GCN(\n",
            "  (conv1): GCNConv(1433, 16)\n",
            "  (conv2): GCNConv(16, 7)\n",
            ")\n"
          ]
        }
      ]
    },
    {
      "cell_type": "code",
      "metadata": {
        "id": "p3TAi69zI1bO",
        "colab": {
          "base_uri": "https://localhost:8080/",
          "height": 17
        },
        "outputId": "0038d0ef-13f4-4b4a-ce42-9b79740b635a"
      },
      "source": [
        "from IPython.display import Javascript  # Restrict height of output cell.\n",
        "display(Javascript('''google.colab.output.setIframeHeight(0, true, {maxHeight: 300})'''))\n",
        "\n",
        "#model = GCN(hidden_channels=16)\n",
        "criterion = torch.nn.CrossEntropyLoss()\n",
        "\n",
        "def train(model, optimizer, x_type='x', edge_type='edge_index'):\n",
        "\n",
        "      model.train()\n",
        "      optimizer.zero_grad()  # Clear gradients.\n",
        "      out = model(data[x_type], data[edge_type])  # Perform a single forward pass.\n",
        "      loss = criterion(out[data.train_mask], data.y[data.train_mask])  # Compute the loss solely based on the training nodes.\n",
        "      loss.backward()  # Derive gradients.\n",
        "      optimizer.step()  # Update parameters based on gradients.\n",
        "      return loss\n",
        "\n",
        "def test(model, x_type='x', edge_type='edge_index'):\n",
        "      model.eval()\n",
        "      out = model(data[x_type], data[edge_type])\n",
        "      pred = out.argmax(dim=1)  # Use the class with highest probability.\n",
        "      test_correct = pred[data.test_mask] == data.y[data.test_mask]  # Check against ground-truth labels.\n",
        "      test_acc = int(test_correct.sum()) / int(data.test_mask.sum())  # Derive ratio of correct predictions.\n",
        "      return test_acc\n"
      ],
      "execution_count": null,
      "outputs": [
        {
          "output_type": "display_data",
          "data": {
            "application/javascript": [
              "google.colab.output.setIframeHeight(0, true, {maxHeight: 300})"
            ],
            "text/plain": [
              "<IPython.core.display.Javascript object>"
            ]
          },
          "metadata": {}
        }
      ]
    },
    {
      "cell_type": "markdown",
      "source": [
        "## GCN different X features noise levels"
      ],
      "metadata": {
        "id": "16hN7hJ780t9"
      }
    },
    {
      "cell_type": "code",
      "source": [
        "noise_levels = [0.15, 0.3, 0.45, 0.6, 0.9, 0.95, 0.99]\n",
        "x_noises =[f'x_noisy_n_{x}' for x in noise_levels ]\n",
        "\n",
        "x_types=['x', 'x_noisy', 'x_ones'] +x_noises +['x']\n",
        "for x_type in x_types:\n",
        "  model = GCN(hidden_channels=16)\n",
        "  optimizer = torch.optim.Adam(model.parameters(), lr=0.01, weight_decay=5e-4)\n",
        "  for epoch in range(1, 101):\n",
        "      loss = train(model, optimizer, x_type=x_type)\n",
        "      #print(f'Epoch: {epoch:03d}, Loss: {loss:.4f}')\n",
        "  test_acc = test(model, x_type=x_type)\n",
        "  print(f'{x_type} Test Accuracy: {test_acc:.4f}')"
      ],
      "metadata": {
        "colab": {
          "base_uri": "https://localhost:8080/"
        },
        "id": "FrXnf8OtwSX7",
        "outputId": "ae4aa9a8-fd25-446b-f915-c3ffcb819383"
      },
      "execution_count": null,
      "outputs": [
        {
          "output_type": "stream",
          "name": "stdout",
          "text": [
            "x Test Accuracy: 0.8150\n",
            "x_noisy Test Accuracy: 0.5280\n",
            "x_ones Test Accuracy: 0.3190\n",
            "x_noisy_n_0.15 Test Accuracy: 0.5840\n",
            "x_noisy_n_0.3 Test Accuracy: 0.5060\n",
            "x_noisy_n_0.45 Test Accuracy: 0.5290\n",
            "x_noisy_n_0.6 Test Accuracy: 0.5370\n",
            "x_noisy_n_0.9 Test Accuracy: 0.5370\n",
            "x_noisy_n_0.95 Test Accuracy: 0.5340\n",
            "x_noisy_n_0.99 Test Accuracy: 0.5510\n",
            "x Test Accuracy: 0.8150\n"
          ]
        }
      ]
    },
    {
      "cell_type": "code",
      "source": [
        "# remove x% edges\n",
        "def remove_from_all_edges(edge_index, edges_to_remove_ratio = 0.15):\n",
        "  edges_to_remove_ratio = 0.15\n",
        "  edge_ratio_to_keep = 1 - edges_to_remove_ratio\n",
        "  num_edges_keep= int(edge_ratio_to_keep * edge_index.shape[1])\n",
        "  chose_random_edge_indices = np.random.choice(edge_index.shape[1], num_edges_keep, replace=False)\n",
        "\n",
        "  print(edge_index[0][chose_random_edge_indices].shape)\n",
        "  print(num_edges_keep)\n",
        "  print(edge_index.shape[1])\n",
        "\n",
        "  edge_index_removed = torch.zeros((2,num_edges_keep), dtype=torch.int64)\n",
        "  edge_index_removed[0] = edge_index[0][chose_random_edge_indices]\n",
        "  edge_index_removed[1] = edge_index[1][chose_random_edge_indices]\n",
        "  return edge_index_removed\n",
        "\n",
        "edge_index_removed = remove_from_all_edges(edge_index=data.edge_index, edges_to_remove_ratio = 0.15)\n",
        "data.edge_index_85 = edge_index_removed"
      ],
      "metadata": {
        "colab": {
          "base_uri": "https://localhost:8080/"
        },
        "id": "LpEb0WU4CDR8",
        "outputId": "80649403-3b8a-42e3-f433-16a2fde77d06"
      },
      "execution_count": null,
      "outputs": [
        {
          "output_type": "stream",
          "name": "stdout",
          "text": [
            "torch.Size([8972])\n",
            "8972\n",
            "10556\n"
          ]
        }
      ]
    },
    {
      "cell_type": "code",
      "source": [
        "ed_type = 'edge_index_85'\n",
        "noise_levels = [0.15, 0.3, 0.45, 0.6, 0.9, 0.95, 0.99]\n",
        "x_noises =[f'x_noisy_n_{x}' for x in noise_levels ]\n",
        "\n",
        "x_types=['x', 'x_noisy', 'x_ones'] +x_noises\n",
        "for x_type in x_types:\n",
        "  #model = GCN(hidden_channels=16)\n",
        "  for epoch in range(1, 101):\n",
        "      loss = train(x_type=x_type, edge_type=ed_type)\n",
        "      #print(f'Epoch: {epoch:03d}, Loss: {loss:.4f}')\n",
        "  test_acc = test(x_type=x_type,edge_type=ed_type)\n",
        "  print(f'{x_type} Test Accuracy: {test_acc:.4f}')"
      ],
      "metadata": {
        "colab": {
          "base_uri": "https://localhost:8080/"
        },
        "id": "KAOqlGSmFZy2",
        "outputId": "87199d1e-792f-4b57-8225-d0939abfb091"
      },
      "execution_count": null,
      "outputs": [
        {
          "output_type": "stream",
          "name": "stdout",
          "text": [
            "x Test Accuracy: 0.7100\n",
            "x_noisy Test Accuracy: 0.4200\n",
            "x_ones Test Accuracy: 0.1440\n",
            "x_noisy_n_0.15 Test Accuracy: 0.5360\n",
            "x_noisy_n_0.3 Test Accuracy: 0.4940\n",
            "x_noisy_n_0.45 Test Accuracy: 0.4700\n",
            "x_noisy_n_0.6 Test Accuracy: 0.4110\n",
            "x_noisy_n_0.9 Test Accuracy: 0.3910\n",
            "x_noisy_n_0.95 Test Accuracy: 0.3600\n",
            "x_noisy_n_0.99 Test Accuracy: 0.3950\n"
          ]
        }
      ]
    },
    {
      "cell_type": "code",
      "source": [
        "# remove x% edges from random k, top_k, bottom_k nodes\n",
        "\n",
        "def choose_nodes_to_remove_from(data, num_nodes, k_nodes, remove_type):\n",
        "  if remove_type=='random':\n",
        "    nodes_chosen = torch.tensor([np.random.choice(num_nodes, k_nodes, replace=False)])\n",
        "  elif remove_type=='top_k':\n",
        "    # find indegree edges\n",
        "    dg = torch_geometric.utils.degree(data.edge_index[0])\n",
        "    top_k_nodes_degrees, top_k_nodes_indices = torch.topk(dg, k_nodes)\n",
        "    #print(top_k_nodes_degrees, top_k_nodes_indices)\n",
        "    nodes_chosen = top_k_nodes_indices\n",
        "  elif remove_type=='bottom_k':\n",
        "    # find indegree edges\n",
        "    dg = torch_geometric.utils.degree(data.edge_index[0])\n",
        "    bottom_k_nodes_degrees, bottom_k_nodes_indices = torch.topk(dg, k_nodes, largest=False)\n",
        "    #print(bottom_k_nodes_degrees, bottom_k_nodes_indices)\n",
        "    nodes_chosen = bottom_k_nodes_indices\n",
        "  else:\n",
        "    raise 'remove_type should be from random, top_k, bottom_k'\n",
        "  return nodes_chosen\n",
        "\n",
        "# to do loop for each node separately\n",
        "def remove_edges_from_chosen_nodes(data, nodes_chosen, edges_to_remove_per_node_ratio, remove_bidirectional):\n",
        "  edges_0_list, edges_1_list = [],[]\n",
        "  for nc in nodes_chosen:\n",
        "    edge_0, edge_1 = remove_edge_per_node(data=data, node=nc, \n",
        "                                          edges_to_remove_per_node_ratio=edges_to_remove_per_node_ratio, \n",
        "                                          remove_bidirectional=remove_bidirectional)\n",
        "    edges_0_list.append(edge_0)\n",
        "    edges_1_list.append(edge_1)\n",
        "\n",
        "  edges_0 = torch.cat(edges_0_list, 0)\n",
        "  edges_1 = torch.cat(edges_1_list, 0)\n",
        "  return edges_0, edges_1\n",
        "\n",
        "def remove_edge_per_node(data, node, edges_to_remove_per_node_ratio=0.1, remove_bidirectional=False):\n",
        "  mask_node_indices = torch.isin(data.edge_index[0], node)\n",
        "\n",
        "  select_node_edges_0 = data.edge_index[0][mask_node_indices]\n",
        "  select_node_edges_1 = data.edge_index[1][mask_node_indices]\n",
        "  #print(select_node_edges_0)\n",
        "  #print(select_node_edges_1)\n",
        "\n",
        "  # choose how much of the edges we will remove for this node\n",
        "  # we decide on number of edges to remove for each node based on the number of edges each node has\n",
        "  # and by taking the ratio given by edges_to_remove_per_node_ratio\n",
        "  # note: we use ceil to remove at least one node (unless ratio is 0)\n",
        "  num_edges_remove = int(math.ceil(edges_to_remove_per_node_ratio* select_node_edges_0.shape[0]))\n",
        "  #print(num_edges_remove)\n",
        "  num_edges_keep = select_node_edges_0.shape[0] - num_edges_remove\n",
        "\n",
        "  # choose random edges to keep, the rest is removed\n",
        "  chose_random_edge_indices = np.random.choice( select_node_edges_0.shape[0], num_edges_keep, replace=False)\n",
        "  #print(num_edges_keep)\n",
        "  \n",
        "  if remove_bidirectional:\n",
        "    mask_node_indices_2 = torch.isin(data.edge_index[1], node)\n",
        "    # find the node names deleted in below indices and delete also for the opposite side.\n",
        "    raise 'You haven\\'t implemented remove bidirectional yet!'\n",
        "\n",
        "  edge_index_removed = torch.zeros((2,num_edges_keep), dtype=torch.int64)\n",
        "  edge_node_index_removed_0 = select_node_edges_0[chose_random_edge_indices]\n",
        "  edge_node_index_removed_1 = select_node_edges_1[chose_random_edge_indices]\n",
        "\n",
        "  return edge_node_index_removed_0, edge_node_index_removed_1\n",
        "\n",
        "def remove_edges_from_nodes(data, edges_to_remove_per_node_ratio = 0.15, k_nodes=10,\n",
        "                            remove_type='random', remove_bidirectional=False):\n",
        "  edges_to_remove_per_node_ratio = 0.15\n",
        "  edge_p_node_ratio_to_keep = 1 - edges_to_remove_per_node_ratio\n",
        "\n",
        "  # choose topk, bottomk, or random\n",
        "  nodes_chosen = choose_nodes_to_remove_from(data=data, num_nodes=data.num_nodes, k_nodes=k_nodes, remove_type=remove_type)\n",
        "\n",
        "  # keep edges from remaining nodes\n",
        "  mask_node_indices = torch.isin(data.edge_index[0],nodes_chosen)\n",
        "  index_keep = torch.ones(data.edge_index[0].shape[0], dtype=bool)\n",
        "  index_keep[mask_node_indices] = False\n",
        "  edges_to_keep_0 = data.edge_index[0][index_keep]\n",
        "  edges_to_keep_1 = data.edge_index[1][index_keep]\n",
        "  print(edges_to_keep_0) \n",
        "  print(edges_to_keep_1)\n",
        "\n",
        "  # remove one-directional or bi-directional\n",
        "  edges_0_kept_chosen_nodes, edges_1_kept_chosen_nodes = remove_edges_from_chosen_nodes(data, nodes_chosen, edges_to_remove_per_node_ratio, remove_bidirectional)\n",
        "\n",
        "  # concat edges to keep and edges_kept_chosen_nodes\n",
        "  final_edges_0 = torch.cat([edges_to_keep_0, edges_0_kept_chosen_nodes], 0)\n",
        "  final_edges_1 = torch.cat([edges_to_keep_1, edges_1_kept_chosen_nodes], 0)\n",
        "\n",
        "  edge_index_removed = torch.zeros((2, final_edges_0.shape[0]), dtype=torch.int64)\n",
        "  edge_index_removed[0] = final_edges_0\n",
        "  edge_index_removed[1] = final_edges_1\n",
        "\n",
        "  # use TORCH_GEOMETRIC.UTILS.SORT_EDGE_INDEX\n",
        "  edge_index_removed_sorted = tg_utils.sort_edge_index(edge_index_removed)\n",
        "  return edge_index_removed_sorted\n"
      ],
      "metadata": {
        "id": "0WSp747oA8MS"
      },
      "execution_count": null,
      "outputs": []
    },
    {
      "cell_type": "code",
      "source": [
        "edges = remove_edges_from_nodes(data=data, edges_to_remove_per_node_ratio = 0.5, k_nodes=1000,\n",
        "                            remove_type='random', remove_bidirectional=False)\n",
        "\n",
        "edges.shape"
      ],
      "metadata": {
        "colab": {
          "base_uri": "https://localhost:8080/"
        },
        "id": "Ja4XxaDHA2db",
        "outputId": "e3f8102e-dd2d-4e5b-a8ef-ce2ab4ffb7bf"
      },
      "execution_count": null,
      "outputs": [
        {
          "output_type": "stream",
          "name": "stdout",
          "text": [
            "tensor([   2,    2,    2,  ..., 2707, 2707, 2707])\n",
            "tensor([   1,  332, 1454,  ...,  598, 1473, 2706])\n"
          ]
        },
        {
          "output_type": "execute_result",
          "data": {
            "text/plain": [
              "torch.Size([2, 9988])"
            ]
          },
          "metadata": {},
          "execution_count": 82
        }
      ]
    },
    {
      "cell_type": "code",
      "source": [
        "edges = remove_edges_from_nodes(data=data, edges_to_remove_per_node_ratio = 0.5, k_nodes=1000,\n",
        "                            remove_type='top_k', remove_bidirectional=False)\n",
        "edges.shape"
      ],
      "metadata": {
        "colab": {
          "base_uri": "https://localhost:8080/"
        },
        "id": "Pa31gFOl4w9v",
        "outputId": "2822559c-576d-4f83-9620-8a643e496c1b"
      },
      "execution_count": null,
      "outputs": [
        {
          "output_type": "stream",
          "name": "stdout",
          "text": [
            "tensor([   0,    0,    0,  ..., 2703, 2704, 2705])\n",
            "tensor([ 633, 1862, 2582,  ..., 1298,  641,  287])\n"
          ]
        },
        {
          "output_type": "execute_result",
          "data": {
            "text/plain": [
              "torch.Size([2, 9124])"
            ]
          },
          "metadata": {},
          "execution_count": 84
        }
      ]
    },
    {
      "cell_type": "code",
      "source": [
        "print(data.edge_index[0][:10])\n",
        "data.edge_index[1][:10]"
      ],
      "metadata": {
        "colab": {
          "base_uri": "https://localhost:8080/"
        },
        "id": "iAGFHTa7YI0X",
        "outputId": "fcec2640-115a-4a91-d68b-786afd0630be"
      },
      "execution_count": null,
      "outputs": [
        {
          "output_type": "stream",
          "name": "stdout",
          "text": [
            "tensor([0, 0, 0, 1, 1, 1, 2, 2, 2, 2])\n"
          ]
        },
        {
          "output_type": "execute_result",
          "data": {
            "text/plain": [
              "tensor([ 633, 1862, 2582,    2,  652,  654,    1,  332, 1454, 1666])"
            ]
          },
          "metadata": {},
          "execution_count": 86
        }
      ]
    },
    {
      "cell_type": "code",
      "source": [
        "mm = torch.isin(data.edge_index[0], 1862)\n",
        "data.edge_index[1][mm]"
      ],
      "metadata": {
        "colab": {
          "base_uri": "https://localhost:8080/"
        },
        "id": "qElNwtWDYOf7",
        "outputId": "fa5847d1-d2af-4e4c-b676-ec6cef0a6532"
      },
      "execution_count": null,
      "outputs": [
        {
          "output_type": "execute_result",
          "data": {
            "text/plain": [
              "tensor([   0,  926, 1701, 2582])"
            ]
          },
          "metadata": {},
          "execution_count": 90
        }
      ]
    },
    {
      "cell_type": "code",
      "source": [
        "# TODOs:\n",
        "# TODO remove bidirectional\n",
        "\n",
        "# TODO add edges:\n",
        "  # TODO add random edges\n",
        "  # TODO add edges to top k node \n",
        "  # TODO add edges to bottom k node \n",
        "  # TODO add edges to random k node \n",
        "\n",
        "# decide on experiments\n",
        "# experiments/research questions\n",
        "# decide on datasets\n",
        "# decide models to use (mlp, gnn, graphsage, ??)\n",
        "# decide on what to log, save, how to design experiments \n",
        "# reliability of experiments: 10 experiments and avg results (log each experiment)\n",
        "# Run each experiment\n",
        "# plots for experiments"
      ],
      "metadata": {
        "id": "841jfXxUTrMf"
      },
      "execution_count": null,
      "outputs": []
    }
  ]
}