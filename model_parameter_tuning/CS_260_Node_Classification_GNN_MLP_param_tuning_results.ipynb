{
  "nbformat": 4,
  "nbformat_minor": 0,
  "metadata": {
    "colab": {
      "name": "CS_260_Node_Classification_GNN_MLP_param_tuning_results.ipynb",
      "provenance": [],
      "collapsed_sections": [],
      "include_colab_link": true
    },
    "kernelspec": {
      "name": "python3",
      "display_name": "Python 3"
    },
    "accelerator": "GPU"
  },
  "cells": [
    {
      "cell_type": "markdown",
      "metadata": {
        "id": "view-in-github",
        "colab_type": "text"
      },
      "source": [
        "<a href=\"https://colab.research.google.com/github/camligorkem/cs-260c-project/blob/main/model_parameter_tuning/CS_260_Node_Classification_GNN_MLP_param_tuning_results.ipynb\" target=\"_parent\"><img src=\"https://colab.research.google.com/assets/colab-badge.svg\" alt=\"Open In Colab\"/></a>"
      ]
    },
    {
      "cell_type": "code",
      "metadata": {
        "id": "F1op-CbyLuN4",
        "colab": {
          "base_uri": "https://localhost:8080/"
        },
        "outputId": "21ab777f-a985-49bd-b56a-bbf43a687dab"
      },
      "source": [
        "# Install required packages.\n",
        "!pip install -q torch-scatter -f https://data.pyg.org/whl/torch-1.10.0+cu113.html\n",
        "!pip install -q torch-sparse -f https://data.pyg.org/whl/torch-1.10.0+cu113.html\n",
        "!pip install -q git+https://github.com/pyg-team/pytorch_geometric.git\n",
        "\n",
        "# Helper function for visualization.\n",
        "%matplotlib inline\n",
        "import matplotlib.pyplot as plt\n",
        "from sklearn.manifold import TSNE\n",
        "\n",
        "def visualize(h, color):\n",
        "    z = TSNE(n_components=2).fit_transform(h.detach().cpu().numpy())\n",
        "\n",
        "    plt.figure(figsize=(10,10))\n",
        "    plt.xticks([])\n",
        "    plt.yticks([])\n",
        "\n",
        "    plt.scatter(z[:, 0], z[:, 1], s=70, c=color, cmap=\"Set2\")\n",
        "    plt.show()"
      ],
      "execution_count": 1,
      "outputs": [
        {
          "output_type": "stream",
          "name": "stdout",
          "text": [
            "\u001b[K     |████████████████████████████████| 7.9 MB 11.5 MB/s \n",
            "\u001b[K     |████████████████████████████████| 3.5 MB 10.4 MB/s \n",
            "\u001b[?25h  Building wheel for torch-geometric (setup.py) ... \u001b[?25l\u001b[?25hdone\n"
          ]
        }
      ]
    },
    {
      "cell_type": "code",
      "source": [
        "import torch \n",
        "import numpy as np\n",
        "import math\n",
        "\n",
        "\n",
        "from torch_geometric.utils import degree\n",
        "import torch_geometric\n",
        "import torch_geometric.utils as tg_utils"
      ],
      "metadata": {
        "id": "5zzyCFITsi1f"
      },
      "execution_count": 2,
      "outputs": []
    },
    {
      "cell_type": "code",
      "source": [
        "import pandas as pd"
      ],
      "metadata": {
        "id": "oYWy1hiQjvYr"
      },
      "execution_count": 3,
      "outputs": []
    },
    {
      "cell_type": "code",
      "source": [
        "!rm -r data"
      ],
      "metadata": {
        "id": "4XbHNyORvbNu",
        "colab": {
          "base_uri": "https://localhost:8080/"
        },
        "outputId": "6433fa67-41fb-4c8c-bc1f-11c76589d838"
      },
      "execution_count": null,
      "outputs": [
        {
          "output_type": "stream",
          "name": "stdout",
          "text": [
            "rm: cannot remove 'data': No such file or directory\n"
          ]
        }
      ]
    },
    {
      "cell_type": "code",
      "metadata": {
        "id": "imGrKO5YH11-",
        "colab": {
          "base_uri": "https://localhost:8080/"
        },
        "outputId": "4d910a3c-367f-4a50-baf3-f7e51830511a"
      },
      "source": [
        "from torch_geometric.datasets import Planetoid\n",
        "from torch_geometric.transforms import NormalizeFeatures\n",
        "\n",
        "dataset = Planetoid(root='data/Planetoid', name='Cora', transform=NormalizeFeatures())\n",
        "\n",
        "print()\n",
        "print(f'Dataset: {dataset}:')\n",
        "print('======================')\n",
        "print(f'Number of graphs: {len(dataset)}')\n",
        "print(f'Number of features: {dataset.num_features}')\n",
        "print(f'Number of classes: {dataset.num_classes}')\n",
        "\n",
        "data = dataset[0]  # Get the first graph object.\n",
        "\n",
        "print()\n",
        "print(data)\n",
        "print('===========================================================================================================')\n",
        "\n",
        "# Gather some statistics about the graph.\n",
        "print(f'Number of nodes: {data.num_nodes}')\n",
        "print(f'Number of edges: {data.num_edges}')\n",
        "print(f'Average node degree: {data.num_edges / data.num_nodes:.2f}')\n",
        "print(f'Number of training nodes: {data.train_mask.sum()}')\n",
        "print(f'Training node label rate: {int(data.train_mask.sum()) / data.num_nodes:.2f}')\n",
        "print(f'Has isolated nodes: {data.has_isolated_nodes()}')\n",
        "print(f'Has self-loops: {data.has_self_loops()}')\n",
        "print(f'Is undirected: {data.is_undirected()}')"
      ],
      "execution_count": 4,
      "outputs": [
        {
          "output_type": "stream",
          "name": "stderr",
          "text": [
            "Downloading https://github.com/kimiyoung/planetoid/raw/master/data/ind.cora.x\n",
            "Downloading https://github.com/kimiyoung/planetoid/raw/master/data/ind.cora.tx\n",
            "Downloading https://github.com/kimiyoung/planetoid/raw/master/data/ind.cora.allx\n",
            "Downloading https://github.com/kimiyoung/planetoid/raw/master/data/ind.cora.y\n",
            "Downloading https://github.com/kimiyoung/planetoid/raw/master/data/ind.cora.ty\n",
            "Downloading https://github.com/kimiyoung/planetoid/raw/master/data/ind.cora.ally\n",
            "Downloading https://github.com/kimiyoung/planetoid/raw/master/data/ind.cora.graph\n",
            "Downloading https://github.com/kimiyoung/planetoid/raw/master/data/ind.cora.test.index\n"
          ]
        },
        {
          "output_type": "stream",
          "name": "stdout",
          "text": [
            "\n",
            "Dataset: Cora():\n",
            "======================\n",
            "Number of graphs: 1\n",
            "Number of features: 1433\n",
            "Number of classes: 7\n",
            "\n",
            "Data(x=[2708, 1433], edge_index=[2, 10556], y=[2708], train_mask=[2708], val_mask=[2708], test_mask=[2708])\n",
            "===========================================================================================================\n",
            "Number of nodes: 2708\n",
            "Number of edges: 10556\n",
            "Average node degree: 3.90\n",
            "Number of training nodes: 140\n",
            "Training node label rate: 0.05\n",
            "Has isolated nodes: False\n",
            "Has self-loops: False\n",
            "Is undirected: True\n"
          ]
        },
        {
          "output_type": "stream",
          "name": "stderr",
          "text": [
            "Processing...\n",
            "Done!\n"
          ]
        }
      ]
    },
    {
      "cell_type": "code",
      "source": [
        "!pip install class-resolver\n",
        "\n",
        "from torch_geometric.nn import MLP, GCN, GraphSAGE, GAT\n",
        "from class_resolver import ClassResolver"
      ],
      "metadata": {
        "id": "6dFYd36OHrGi",
        "colab": {
          "base_uri": "https://localhost:8080/"
        },
        "outputId": "aaea9e43-c556-49f8-86a2-fb6c36b19f08"
      },
      "execution_count": 5,
      "outputs": [
        {
          "output_type": "stream",
          "name": "stdout",
          "text": [
            "Collecting class-resolver\n",
            "  Downloading class_resolver-0.3.4-py3-none-any.whl (20 kB)\n",
            "Installing collected packages: class-resolver\n",
            "Successfully installed class-resolver-0.3.4\n"
          ]
        }
      ]
    },
    {
      "cell_type": "code",
      "source": [
        "# reuse train and test\n",
        "def train(model, optimizer, x_type='x', edge_type='edge_index'):\n",
        "  criterion = torch.nn.CrossEntropyLoss()\n",
        "  model.train()\n",
        "  optimizer.zero_grad()  # Clear gradients.\n",
        "  out = model(data[x_type], data[edge_type])  # Perform a single forward pass.\n",
        "  loss = criterion(out[data.train_mask], data.y[data.train_mask])  # Compute the loss solely based on the training nodes.\n",
        "  loss.backward()  # Derive gradients.\n",
        "  optimizer.step()  # Update parameters based on gradients.\n",
        "  return loss\n",
        "\n",
        "def test(model, x_type='x', edge_type='edge_index'):\n",
        "  model.eval()\n",
        "  out = model(data[x_type], data[edge_type])\n",
        "  pred = out.argmax(dim=1)  # Use the class with highest probability.\n",
        "  test_correct = pred[data.test_mask] == data.y[data.test_mask]  # Check against ground-truth labels.\n",
        "  test_acc = int(test_correct.sum()) / int(data.test_mask.sum())  # Derive ratio of correct predictions.\n",
        "  return test_acc\n",
        "\n",
        "def validation(model, x_type='x', edge_type='edge_index'):\n",
        "  model.eval()\n",
        "  out = model(data[x_type], data[edge_type])\n",
        "  pred = out.argmax(dim=1)  # Use the class with highest probability.\n",
        "  val_correct = pred[data.val_mask] == data.y[data.val_mask]  # Check against ground-truth labels.\n",
        "  val_acc = int(val_correct.sum()) / int(data.val_mask.sum())  # Derive ratio of correct predictions.\n",
        "  return val_acc"
      ],
      "metadata": {
        "id": "h6gCiCVlHizi"
      },
      "execution_count": 7,
      "outputs": []
    },
    {
      "cell_type": "markdown",
      "source": [
        "# GNN Parameter tuning experiment"
      ],
      "metadata": {
        "id": "iybthGUdWbkC"
      }
    },
    {
      "cell_type": "code",
      "source": [
        "def gnn_parameter_tuning_experiment(dataset_name, search_space_params, data, evaltype='valid', x_type='x', edge_type='edge_index', repeat_num=1, print_updates=False):\n",
        "  '''\n",
        "  Assumes the noisy data is already created and inside the data object (so that we can use same data sample for different models to compare)\n",
        "  '''\n",
        "\n",
        "  exp_count = np.prod([len(vals) for vals in list(search_space_params.values())])\n",
        "  max_val_acc_so_far = 0\n",
        "  count=0\n",
        "  res = []\n",
        "  num_epochs = search_space_params['epochs'][0]\n",
        "  in_chs = search_space_params['in_channels'][0]\n",
        "  out_chs = search_space_params['out_channels'][0]\n",
        "  print(f'Total experiments to run: {exp_count}')\n",
        "  for hid_ch in search_space_params['hidden_channels']:\n",
        "    for num_layer in search_space_params['num_layers']:\n",
        "      for dropout in search_space_params['dropout']:\n",
        "        for lr in search_space_params['lrs']:\n",
        "          for aggr in search_space_params['aggr']:\n",
        "            for weight_decay in search_space_params['weight_decay']:\n",
        "              count+=1\n",
        "              val_accs = []\n",
        "              for exp_num in range(1, repeat_num+1): # we will repeat experiment repeat many times, to increase results reliability\n",
        "                  model_params = {'in_channels':in_chs, 'out_channels':out_chs,'hidden_channels':hid_ch, \n",
        "                                  'num_layers':num_layer, 'dropout':dropout, 'aggr' :aggr}\n",
        "                  #print(model_params)\n",
        "                  gnn_model = GCN(**model_params)\n",
        "                  optimizer = torch.optim.Adam(gnn_model.parameters(), lr=lr, weight_decay=weight_decay) # parametrize similar to model later TODO\n",
        "\n",
        "                  for epoch in range(num_epochs):\n",
        "                    loss = train(gnn_model, optimizer, x_type=x_type, edge_type=edge_type)\n",
        "                    # print(f'Epoch: {epoch:03d}, Loss: {loss:.4f}')\n",
        "\n",
        "                  # we test our results in original data, no noise added ones \n",
        "                  # if you want to test on noised data change them to x_type=x_type and edge_type=ed_type below\n",
        "                  if evaltype =='valid':\n",
        "                    val_acc = validation(gnn_model, x_type='x',edge_type='edge_index') \n",
        "                  elif evaltype =='test':\n",
        "                    val_acc = test(gnn_model, x_type='x',edge_type='edge_index') \n",
        "                  val_accs.append(val_acc)\n",
        "              exp_params = model_params\n",
        "              exp_params['lr']=lr\n",
        "              exp_params['weight_decay']=weight_decay\n",
        "              exp_params['epochs']=num_epochs\n",
        "              mean_val_acc = np.mean(val_accs)\n",
        "              max_val_acc_so_far = max(max_val_acc_so_far, mean_val_acc )\n",
        "              if print_updates and count%50==0:\n",
        "                #print(f'Run exp {count}/{exp_count}: Mean Test Accuracy: {mean_test_acc:.4f}, exp parameters: {exp_params}')\n",
        "                print(f'Run exp {count}/{exp_count}: Maximum found Avg. Validation Accuracy: {max_val_acc_so_far:.4f}')\n",
        "\n",
        "\n",
        "              # TODO we can add other metrics such as runtime to log in here later\n",
        "              exp_res = {'dataset_name': dataset_name,\n",
        "                        'model_name':'GNN',  'mean_test_accuracy':mean_val_acc, \n",
        "                        'exp_params':exp_params, 'tot_experiment':repeat_num,\n",
        "                          'x_type':x_type, 'edge_type':edge_type} \n",
        "              res.append(exp_res)\n",
        "  print(f'End of experiments..\\n  Maximum found Avg. Validation Accuracy: {max_val_acc_so_far:.4f}')\n",
        "  res_df = pd.DataFrame(res, columns=exp_res.keys())\n",
        "  return res_df"
      ],
      "metadata": {
        "id": "kb5TI_z1Ni64"
      },
      "execution_count": 9,
      "outputs": []
    },
    {
      "cell_type": "code",
      "source": [
        "search_space_params= {\n",
        "    'in_channels': [1433],\n",
        "    'hidden_channels': [5, 15, 30, 50, 100],\n",
        "    'num_layers': [2, 3, 4],\n",
        "    'out_channels': [7],\n",
        "    'dropout' : [0.1, 0.2, 0.3],\n",
        "    'epochs': [20], \n",
        "    ## additinonal message passing parameters\n",
        "    'aggr' : [\"add\", \"mean\", \"max\"],\n",
        "    ## optimizer parameters\n",
        "    'lrs' : [0.0001, 0.0005, 0.001, 0.005, 0.01, 0.05],\n",
        "    'weight_decay' : [1e-6, 5e-4, 1e-4, 1e-3] \n",
        "}\n"
      ],
      "metadata": {
        "id": "WzeGG9B3Ukl9"
      },
      "execution_count": null,
      "outputs": []
    },
    {
      "cell_type": "code",
      "source": [
        "tuning_res_df = gnn_parameter_tuning_experiment(dataset_name='Cora', \n",
        "                                search_space_params=search_space_params, \n",
        "                                data=data,\n",
        "                                repeat_num=1, \n",
        "                                print_updates=True)"
      ],
      "metadata": {
        "colab": {
          "base_uri": "https://localhost:8080/"
        },
        "id": "iymvUmpWUimA",
        "outputId": "7487a4b9-b152-4220-9b5b-89863f564e99"
      },
      "execution_count": null,
      "outputs": [
        {
          "output_type": "stream",
          "name": "stdout",
          "text": [
            "Total experiments to run: 3240\n",
            "Run exp 50/3240: Maximum found Avg. Validation Accuracy: 0.5980\n",
            "Run exp 100/3240: Maximum found Avg. Validation Accuracy: 0.6300\n",
            "Run exp 150/3240: Maximum found Avg. Validation Accuracy: 0.6960\n",
            "Run exp 200/3240: Maximum found Avg. Validation Accuracy: 0.6960\n",
            "Run exp 250/3240: Maximum found Avg. Validation Accuracy: 0.7220\n",
            "Run exp 300/3240: Maximum found Avg. Validation Accuracy: 0.7220\n",
            "Run exp 350/3240: Maximum found Avg. Validation Accuracy: 0.7220\n",
            "Run exp 400/3240: Maximum found Avg. Validation Accuracy: 0.7220\n",
            "Run exp 450/3240: Maximum found Avg. Validation Accuracy: 0.7220\n",
            "Run exp 500/3240: Maximum found Avg. Validation Accuracy: 0.7220\n",
            "Run exp 550/3240: Maximum found Avg. Validation Accuracy: 0.7220\n",
            "Run exp 600/3240: Maximum found Avg. Validation Accuracy: 0.7220\n",
            "Run exp 650/3240: Maximum found Avg. Validation Accuracy: 0.7220\n",
            "Run exp 700/3240: Maximum found Avg. Validation Accuracy: 0.7700\n",
            "Run exp 750/3240: Maximum found Avg. Validation Accuracy: 0.7760\n",
            "Run exp 800/3240: Maximum found Avg. Validation Accuracy: 0.7860\n",
            "Run exp 850/3240: Maximum found Avg. Validation Accuracy: 0.7860\n",
            "Run exp 900/3240: Maximum found Avg. Validation Accuracy: 0.7860\n",
            "Run exp 950/3240: Maximum found Avg. Validation Accuracy: 0.7860\n",
            "Run exp 1000/3240: Maximum found Avg. Validation Accuracy: 0.7860\n",
            "Run exp 1050/3240: Maximum found Avg. Validation Accuracy: 0.7860\n",
            "Run exp 1100/3240: Maximum found Avg. Validation Accuracy: 0.7860\n",
            "Run exp 1150/3240: Maximum found Avg. Validation Accuracy: 0.7860\n",
            "Run exp 1200/3240: Maximum found Avg. Validation Accuracy: 0.7860\n",
            "Run exp 1250/3240: Maximum found Avg. Validation Accuracy: 0.7860\n",
            "Run exp 1300/3240: Maximum found Avg. Validation Accuracy: 0.7860\n",
            "Run exp 1350/3240: Maximum found Avg. Validation Accuracy: 0.7860\n",
            "Run exp 1400/3240: Maximum found Avg. Validation Accuracy: 0.7920\n",
            "Run exp 1450/3240: Maximum found Avg. Validation Accuracy: 0.7940\n",
            "Run exp 1500/3240: Maximum found Avg. Validation Accuracy: 0.7940\n",
            "Run exp 1550/3240: Maximum found Avg. Validation Accuracy: 0.7940\n",
            "Run exp 1600/3240: Maximum found Avg. Validation Accuracy: 0.7940\n",
            "Run exp 1650/3240: Maximum found Avg. Validation Accuracy: 0.7940\n",
            "Run exp 1700/3240: Maximum found Avg. Validation Accuracy: 0.7940\n",
            "Run exp 1750/3240: Maximum found Avg. Validation Accuracy: 0.7940\n",
            "Run exp 1800/3240: Maximum found Avg. Validation Accuracy: 0.7940\n",
            "Run exp 1850/3240: Maximum found Avg. Validation Accuracy: 0.7940\n",
            "Run exp 1900/3240: Maximum found Avg. Validation Accuracy: 0.7940\n",
            "Run exp 1950/3240: Maximum found Avg. Validation Accuracy: 0.7940\n",
            "Run exp 2000/3240: Maximum found Avg. Validation Accuracy: 0.7940\n",
            "Run exp 2050/3240: Maximum found Avg. Validation Accuracy: 0.7980\n",
            "Run exp 2100/3240: Maximum found Avg. Validation Accuracy: 0.7980\n",
            "Run exp 2150/3240: Maximum found Avg. Validation Accuracy: 0.7980\n",
            "Run exp 2200/3240: Maximum found Avg. Validation Accuracy: 0.7980\n",
            "Run exp 2250/3240: Maximum found Avg. Validation Accuracy: 0.7980\n",
            "Run exp 2300/3240: Maximum found Avg. Validation Accuracy: 0.7980\n",
            "Run exp 2350/3240: Maximum found Avg. Validation Accuracy: 0.7980\n",
            "Run exp 2400/3240: Maximum found Avg. Validation Accuracy: 0.7980\n",
            "Run exp 2450/3240: Maximum found Avg. Validation Accuracy: 0.7980\n",
            "Run exp 2500/3240: Maximum found Avg. Validation Accuracy: 0.7980\n",
            "Run exp 2550/3240: Maximum found Avg. Validation Accuracy: 0.7980\n",
            "Run exp 2600/3240: Maximum found Avg. Validation Accuracy: 0.7980\n",
            "Run exp 2650/3240: Maximum found Avg. Validation Accuracy: 0.7980\n",
            "Run exp 2700/3240: Maximum found Avg. Validation Accuracy: 0.8020\n",
            "Run exp 2750/3240: Maximum found Avg. Validation Accuracy: 0.8020\n",
            "Run exp 2800/3240: Maximum found Avg. Validation Accuracy: 0.8020\n",
            "Run exp 2850/3240: Maximum found Avg. Validation Accuracy: 0.8020\n",
            "Run exp 2900/3240: Maximum found Avg. Validation Accuracy: 0.8020\n",
            "Run exp 2950/3240: Maximum found Avg. Validation Accuracy: 0.8100\n",
            "Run exp 3000/3240: Maximum found Avg. Validation Accuracy: 0.8100\n",
            "Run exp 3050/3240: Maximum found Avg. Validation Accuracy: 0.8100\n",
            "Run exp 3100/3240: Maximum found Avg. Validation Accuracy: 0.8100\n",
            "Run exp 3150/3240: Maximum found Avg. Validation Accuracy: 0.8100\n",
            "Run exp 3200/3240: Maximum found Avg. Validation Accuracy: 0.8100\n",
            "End of experiments..\n",
            "  Maximum found Avg. Validation Accuracy: 0.8100\n"
          ]
        }
      ]
    },
    {
      "cell_type": "code",
      "source": [
        "tuning_res_df.to_csv('gnn_tuning_res_epoch_20.csv')"
      ],
      "metadata": {
        "id": "E3T4zIzFql8Y"
      },
      "execution_count": null,
      "outputs": []
    },
    {
      "cell_type": "code",
      "source": [
        "tuning_res_df"
      ],
      "metadata": {
        "colab": {
          "base_uri": "https://localhost:8080/",
          "height": 175
        },
        "id": "u3RmHsY7kBPi",
        "outputId": "73d50ed0-8180-4b98-937f-2ca969cc01ef"
      },
      "execution_count": null,
      "outputs": [
        {
          "output_type": "execute_result",
          "data": {
            "text/html": [
              "\n",
              "  <div id=\"df-ea49a25c-733a-4281-b75d-ba51877830b7\">\n",
              "    <div class=\"colab-df-container\">\n",
              "      <div>\n",
              "<style scoped>\n",
              "    .dataframe tbody tr th:only-of-type {\n",
              "        vertical-align: middle;\n",
              "    }\n",
              "\n",
              "    .dataframe tbody tr th {\n",
              "        vertical-align: top;\n",
              "    }\n",
              "\n",
              "    .dataframe thead th {\n",
              "        text-align: right;\n",
              "    }\n",
              "</style>\n",
              "<table border=\"1\" class=\"dataframe\">\n",
              "  <thead>\n",
              "    <tr style=\"text-align: right;\">\n",
              "      <th></th>\n",
              "      <th>dataset_name</th>\n",
              "      <th>model_name</th>\n",
              "      <th>mean_test_accuracy</th>\n",
              "      <th>exp_params</th>\n",
              "      <th>tot_experiment</th>\n",
              "      <th>x_type</th>\n",
              "      <th>edge_type</th>\n",
              "    </tr>\n",
              "  </thead>\n",
              "  <tbody>\n",
              "    <tr>\n",
              "      <th>0</th>\n",
              "      <td>Cora</td>\n",
              "      <td>GNN</td>\n",
              "      <td>0.391333</td>\n",
              "      <td>{'in_channels': 1433, 'out_channels': 7, 'hidd...</td>\n",
              "      <td>3</td>\n",
              "      <td>x</td>\n",
              "      <td>edge_index</td>\n",
              "    </tr>\n",
              "    <tr>\n",
              "      <th>1</th>\n",
              "      <td>Cora</td>\n",
              "      <td>GNN</td>\n",
              "      <td>0.648667</td>\n",
              "      <td>{'in_channels': 1433, 'out_channels': 7, 'hidd...</td>\n",
              "      <td>3</td>\n",
              "      <td>x</td>\n",
              "      <td>edge_index</td>\n",
              "    </tr>\n",
              "    <tr>\n",
              "      <th>2</th>\n",
              "      <td>Cora</td>\n",
              "      <td>GNN</td>\n",
              "      <td>0.566667</td>\n",
              "      <td>{'in_channels': 1433, 'out_channels': 7, 'hidd...</td>\n",
              "      <td>3</td>\n",
              "      <td>x</td>\n",
              "      <td>edge_index</td>\n",
              "    </tr>\n",
              "    <tr>\n",
              "      <th>3</th>\n",
              "      <td>Cora</td>\n",
              "      <td>GNN</td>\n",
              "      <td>0.688000</td>\n",
              "      <td>{'in_channels': 1433, 'out_channels': 7, 'hidd...</td>\n",
              "      <td>3</td>\n",
              "      <td>x</td>\n",
              "      <td>edge_index</td>\n",
              "    </tr>\n",
              "  </tbody>\n",
              "</table>\n",
              "</div>\n",
              "      <button class=\"colab-df-convert\" onclick=\"convertToInteractive('df-ea49a25c-733a-4281-b75d-ba51877830b7')\"\n",
              "              title=\"Convert this dataframe to an interactive table.\"\n",
              "              style=\"display:none;\">\n",
              "        \n",
              "  <svg xmlns=\"http://www.w3.org/2000/svg\" height=\"24px\"viewBox=\"0 0 24 24\"\n",
              "       width=\"24px\">\n",
              "    <path d=\"M0 0h24v24H0V0z\" fill=\"none\"/>\n",
              "    <path d=\"M18.56 5.44l.94 2.06.94-2.06 2.06-.94-2.06-.94-.94-2.06-.94 2.06-2.06.94zm-11 1L8.5 8.5l.94-2.06 2.06-.94-2.06-.94L8.5 2.5l-.94 2.06-2.06.94zm10 10l.94 2.06.94-2.06 2.06-.94-2.06-.94-.94-2.06-.94 2.06-2.06.94z\"/><path d=\"M17.41 7.96l-1.37-1.37c-.4-.4-.92-.59-1.43-.59-.52 0-1.04.2-1.43.59L10.3 9.45l-7.72 7.72c-.78.78-.78 2.05 0 2.83L4 21.41c.39.39.9.59 1.41.59.51 0 1.02-.2 1.41-.59l7.78-7.78 2.81-2.81c.8-.78.8-2.07 0-2.86zM5.41 20L4 18.59l7.72-7.72 1.47 1.35L5.41 20z\"/>\n",
              "  </svg>\n",
              "      </button>\n",
              "      \n",
              "  <style>\n",
              "    .colab-df-container {\n",
              "      display:flex;\n",
              "      flex-wrap:wrap;\n",
              "      gap: 12px;\n",
              "    }\n",
              "\n",
              "    .colab-df-convert {\n",
              "      background-color: #E8F0FE;\n",
              "      border: none;\n",
              "      border-radius: 50%;\n",
              "      cursor: pointer;\n",
              "      display: none;\n",
              "      fill: #1967D2;\n",
              "      height: 32px;\n",
              "      padding: 0 0 0 0;\n",
              "      width: 32px;\n",
              "    }\n",
              "\n",
              "    .colab-df-convert:hover {\n",
              "      background-color: #E2EBFA;\n",
              "      box-shadow: 0px 1px 2px rgba(60, 64, 67, 0.3), 0px 1px 3px 1px rgba(60, 64, 67, 0.15);\n",
              "      fill: #174EA6;\n",
              "    }\n",
              "\n",
              "    [theme=dark] .colab-df-convert {\n",
              "      background-color: #3B4455;\n",
              "      fill: #D2E3FC;\n",
              "    }\n",
              "\n",
              "    [theme=dark] .colab-df-convert:hover {\n",
              "      background-color: #434B5C;\n",
              "      box-shadow: 0px 1px 3px 1px rgba(0, 0, 0, 0.15);\n",
              "      filter: drop-shadow(0px 1px 2px rgba(0, 0, 0, 0.3));\n",
              "      fill: #FFFFFF;\n",
              "    }\n",
              "  </style>\n",
              "\n",
              "      <script>\n",
              "        const buttonEl =\n",
              "          document.querySelector('#df-ea49a25c-733a-4281-b75d-ba51877830b7 button.colab-df-convert');\n",
              "        buttonEl.style.display =\n",
              "          google.colab.kernel.accessAllowed ? 'block' : 'none';\n",
              "\n",
              "        async function convertToInteractive(key) {\n",
              "          const element = document.querySelector('#df-ea49a25c-733a-4281-b75d-ba51877830b7');\n",
              "          const dataTable =\n",
              "            await google.colab.kernel.invokeFunction('convertToInteractive',\n",
              "                                                     [key], {});\n",
              "          if (!dataTable) return;\n",
              "\n",
              "          const docLinkHtml = 'Like what you see? Visit the ' +\n",
              "            '<a target=\"_blank\" href=https://colab.research.google.com/notebooks/data_table.ipynb>data table notebook</a>'\n",
              "            + ' to learn more about interactive tables.';\n",
              "          element.innerHTML = '';\n",
              "          dataTable['output_type'] = 'display_data';\n",
              "          await google.colab.output.renderOutput(dataTable, element);\n",
              "          const docLink = document.createElement('div');\n",
              "          docLink.innerHTML = docLinkHtml;\n",
              "          element.appendChild(docLink);\n",
              "        }\n",
              "      </script>\n",
              "    </div>\n",
              "  </div>\n",
              "  "
            ],
            "text/plain": [
              "  dataset_name model_name  ...  x_type   edge_type\n",
              "0         Cora        GNN  ...       x  edge_index\n",
              "1         Cora        GNN  ...       x  edge_index\n",
              "2         Cora        GNN  ...       x  edge_index\n",
              "3         Cora        GNN  ...       x  edge_index\n",
              "\n",
              "[4 rows x 7 columns]"
            ]
          },
          "metadata": {},
          "execution_count": 124
        }
      ]
    },
    {
      "cell_type": "code",
      "source": [
        "tuning_res_df[tuning_res_df.mean_test_accuracy == 0.8100].exp_params.values"
      ],
      "metadata": {
        "colab": {
          "base_uri": "https://localhost:8080/"
        },
        "id": "-5QHr_sTkTYq",
        "outputId": "930c1ba2-9c4c-4434-aea3-e121d837568a"
      },
      "execution_count": null,
      "outputs": [
        {
          "output_type": "execute_result",
          "data": {
            "text/plain": [
              "array([{'in_channels': 1433, 'out_channels': 7, 'hidden_channels': 100, 'num_layers': 3, 'dropout': 0.2, 'aggr': 'add', 'lr': 0.01, 'weight_decay': 1e-06, 'epochs': 20},\n",
              "       {'in_channels': 1433, 'out_channels': 7, 'hidden_channels': 100, 'num_layers': 4, 'dropout': 0.1, 'aggr': 'add', 'lr': 0.005, 'weight_decay': 1e-06, 'epochs': 20}],\n",
              "      dtype=object)"
            ]
          },
          "metadata": {},
          "execution_count": 136
        }
      ]
    },
    {
      "cell_type": "code",
      "source": [
        "tuning_res_df = tuning_res_df.sort_values(by='mean_test_accuracy', ascending=False)\n",
        "tuning_res_df.head(10)['exp_params'].values"
      ],
      "metadata": {
        "colab": {
          "base_uri": "https://localhost:8080/"
        },
        "id": "ow1kq5QF4mCR",
        "outputId": "96e3f8de-abf3-4085-8289-79abdba0c959"
      },
      "execution_count": null,
      "outputs": [
        {
          "output_type": "execute_result",
          "data": {
            "text/plain": [
              "array([{'in_channels': 1433, 'out_channels': 7, 'hidden_channels': 100, 'num_layers': 3, 'dropout': 0.2, 'aggr': 'add', 'lr': 0.01, 'weight_decay': 1e-06, 'epochs': 20},\n",
              "       {'in_channels': 1433, 'out_channels': 7, 'hidden_channels': 100, 'num_layers': 4, 'dropout': 0.1, 'aggr': 'add', 'lr': 0.005, 'weight_decay': 1e-06, 'epochs': 20},\n",
              "       {'in_channels': 1433, 'out_channels': 7, 'hidden_channels': 100, 'num_layers': 3, 'dropout': 0.3, 'aggr': 'add', 'lr': 0.01, 'weight_decay': 1e-06, 'epochs': 20},\n",
              "       {'in_channels': 1433, 'out_channels': 7, 'hidden_channels': 100, 'num_layers': 2, 'dropout': 0.1, 'aggr': 'add', 'lr': 0.05, 'weight_decay': 0.0001, 'epochs': 20},\n",
              "       {'in_channels': 1433, 'out_channels': 7, 'hidden_channels': 100, 'num_layers': 3, 'dropout': 0.3, 'aggr': 'add', 'lr': 0.01, 'weight_decay': 0.0001, 'epochs': 20},\n",
              "       {'in_channels': 1433, 'out_channels': 7, 'hidden_channels': 50, 'num_layers': 2, 'dropout': 0.3, 'aggr': 'add', 'lr': 0.05, 'weight_decay': 0.0005, 'epochs': 20},\n",
              "       {'in_channels': 1433, 'out_channels': 7, 'hidden_channels': 50, 'num_layers': 2, 'dropout': 0.1, 'aggr': 'add', 'lr': 0.05, 'weight_decay': 0.001, 'epochs': 20},\n",
              "       {'in_channels': 1433, 'out_channels': 7, 'hidden_channels': 100, 'num_layers': 2, 'dropout': 0.2, 'aggr': 'add', 'lr': 0.05, 'weight_decay': 0.0001, 'epochs': 20},\n",
              "       {'in_channels': 1433, 'out_channels': 7, 'hidden_channels': 100, 'num_layers': 2, 'dropout': 0.1, 'aggr': 'add', 'lr': 0.05, 'weight_decay': 0.0005, 'epochs': 20},\n",
              "       {'in_channels': 1433, 'out_channels': 7, 'hidden_channels': 30, 'num_layers': 2, 'dropout': 0.2, 'aggr': 'add', 'lr': 0.05, 'weight_decay': 1e-06, 'epochs': 20}],\n",
              "      dtype=object)"
            ]
          },
          "metadata": {},
          "execution_count": 151
        }
      ]
    },
    {
      "cell_type": "code",
      "source": [
        "best_space_params1= {\n",
        "    'in_channels': [1433],\n",
        "    'hidden_channels': [100],\n",
        "    'num_layers': [3],\n",
        "    'out_channels': [7],\n",
        "    'dropout' : [0.2],\n",
        "    'epochs': [30], \n",
        "    ## additinonal message passing parameters\n",
        "    'aggr' : [\"add\"],\n",
        "    ## optimizer parameters\n",
        "    'lrs' : [0.01],\n",
        "    'weight_decay' : [1e-6] \n",
        "}\n",
        "best_tuning_res_df1 = gnn_parameter_tuning_experiment(dataset_name='Cora', \n",
        "                                search_space_params=best_space_params1, \n",
        "                                data=data,\n",
        "                                evaltype='valid',\n",
        "                                repeat_num=10, \n",
        "                                print_updates=True)"
      ],
      "metadata": {
        "colab": {
          "base_uri": "https://localhost:8080/"
        },
        "id": "SQs6MAEwl5ig",
        "outputId": "90ff1f7d-6ec1-4eb8-b241-788dba2f29b6"
      },
      "execution_count": null,
      "outputs": [
        {
          "output_type": "stream",
          "name": "stdout",
          "text": [
            "Total experiments to run: 1\n",
            "End of experiments..\n",
            "  Maximum found Avg. Validation Accuracy: 0.7742\n"
          ]
        }
      ]
    },
    {
      "cell_type": "code",
      "source": [
        "best_space_params2= {\n",
        "    'in_channels': [1433],\n",
        "    'hidden_channels': [50],\n",
        "    'num_layers': [2],\n",
        "    'out_channels': [7],\n",
        "    'dropout' : [0.1],\n",
        "    'epochs': [100], \n",
        "    ## additinonal message passing parameters\n",
        "    'aggr' : [\"add\"],\n",
        "    ## optimizer parameters\n",
        "    'lrs' : [0.05],\n",
        "    'weight_decay' : [0.001] \n",
        "}\n",
        "best_tuning_res_df2 = gnn_parameter_tuning_experiment(dataset_name='Cora', \n",
        "                                search_space_params=best_space_params2, \n",
        "                                data=data,\n",
        "                                evaltype='valid',\n",
        "                                repeat_num=10, \n",
        "                                print_updates=True)"
      ],
      "metadata": {
        "colab": {
          "base_uri": "https://localhost:8080/"
        },
        "id": "qHJI_Ks-G_Qa",
        "outputId": "21173f0e-7aaa-490e-87eb-12f71a3a6504"
      },
      "execution_count": null,
      "outputs": [
        {
          "output_type": "stream",
          "name": "stdout",
          "text": [
            "Total experiments to run: 1\n",
            "End of experiments..\n",
            "  Maximum found Avg. Validation Accuracy: 0.7942\n"
          ]
        }
      ]
    },
    {
      "cell_type": "code",
      "source": [
        "best_space_params3= {\n",
        "    'in_channels': [1433],\n",
        "    'hidden_channels': [30],\n",
        "    'num_layers': [2],\n",
        "    'out_channels': [7],\n",
        "    'dropout' : [0.2],\n",
        "    'epochs': [20],\n",
        "    ## additinonal message passing parameters\n",
        "    'aggr' : [\"add\"],\n",
        "    ## optimizer parameters\n",
        "    'lrs' : [0.05],\n",
        "    'weight_decay' : [1e-6] \n",
        "}\n",
        "best_tuning_res_df3 = gnn_parameter_tuning_experiment(dataset_name='Cora', \n",
        "                                search_space_params=best_space_params3, \n",
        "                                data=data,\n",
        "                                evaltype='valid',\n",
        "                                repeat_num=10, \n",
        "                                print_updates=True)"
      ],
      "metadata": {
        "colab": {
          "base_uri": "https://localhost:8080/"
        },
        "id": "zPrJ9KJWHPmU",
        "outputId": "4d1c7906-c476-4b63-fb9c-fe10c1366dcb"
      },
      "execution_count": null,
      "outputs": [
        {
          "output_type": "stream",
          "name": "stdout",
          "text": [
            "Total experiments to run: 1\n",
            "End of experiments..\n",
            "  Maximum found Avg. Validation Accuracy: 0.7848\n"
          ]
        }
      ]
    },
    {
      "cell_type": "code",
      "source": [
        "best_space_params4= {\n",
        "    'in_channels': [1433],\n",
        "    'hidden_channels': [16],\n",
        "    'num_layers': [2],\n",
        "    'out_channels': [7],\n",
        "    'dropout' : [0.2],\n",
        "    'epochs': [100], \n",
        "    ## additinonal message passing parameters\n",
        "    'aggr' : [\"add\"],\n",
        "    ## optimizer parameters\n",
        "    'lrs' : [0.01],\n",
        "    'weight_decay' : [5e-4] \n",
        "}\n",
        "best_tuning_res_df4 = gnn_parameter_tuning_experiment(dataset_name='Cora', \n",
        "                                search_space_params=best_space_params4, \n",
        "                                data=data,\n",
        "                                evaltype='valid',\n",
        "                                repeat_num=10, \n",
        "                                print_updates=True)"
      ],
      "metadata": {
        "colab": {
          "base_uri": "https://localhost:8080/"
        },
        "id": "OqylKQZB6EiP",
        "outputId": "d0993d84-899b-4a65-b744-518ac986866c"
      },
      "execution_count": null,
      "outputs": [
        {
          "output_type": "stream",
          "name": "stdout",
          "text": [
            "Total experiments to run: 1\n",
            "End of experiments..\n",
            "  Maximum found Avg. Validation Accuracy: 0.7886\n"
          ]
        }
      ]
    },
    {
      "cell_type": "code",
      "source": [
        "# test for the best one \n",
        "best_space_params_chosen= {\n",
        "    'in_channels': [1433],\n",
        "    'hidden_channels': [30],\n",
        "    'num_layers': [2],\n",
        "    'out_channels': [7],\n",
        "    'dropout' : [0.2],\n",
        "    'epochs': [25],\n",
        "    ## additinonal message passing parameters\n",
        "    'aggr' : [\"add\"],\n",
        "    ## optimizer parameters\n",
        "    'lrs' : [0.05],\n",
        "    'weight_decay' : [1e-6] \n",
        "}\n",
        "final_best_tuning_res_df = gnn_parameter_tuning_experiment(dataset_name='Cora', \n",
        "                                search_space_params=best_space_params_chosen, \n",
        "                                data=data,\n",
        "                                evaltype='test',\n",
        "                                repeat_num=10, \n",
        "                                print_updates=True)"
      ],
      "metadata": {
        "id": "Kti0vFk_l5l-",
        "colab": {
          "base_uri": "https://localhost:8080/"
        },
        "outputId": "4ee73e1b-6562-443c-a834-2e959eb5dbfa"
      },
      "execution_count": 14,
      "outputs": [
        {
          "output_type": "stream",
          "name": "stdout",
          "text": [
            "Total experiments to run: 1\n",
            "End of experiments..\n",
            "  Maximum found Avg. Validation Accuracy: 0.7941\n"
          ]
        }
      ]
    },
    {
      "cell_type": "code",
      "source": [
        ""
      ],
      "metadata": {
        "id": "t6PWUz2QZ1og"
      },
      "execution_count": null,
      "outputs": []
    },
    {
      "cell_type": "markdown",
      "source": [
        "# MLP Tuning Results"
      ],
      "metadata": {
        "id": "fS8IidMEhhx_"
      }
    },
    {
      "cell_type": "code",
      "source": [
        "def mlp_parameter_tuning_experiment(dataset_name, search_space_params, data, evaltype='valid', x_type='x',edge_type='edge_index', repeat_num=1, print_updates=False):\n",
        "  '''\n",
        "  Assumes the noisy data is already created and inside the data object (so that we can use same data sample for different models to compare)\n",
        "  '''\n",
        "\n",
        "  exp_count = np.prod([len(vals) for vals in list(search_space_params.values())])\n",
        "  max_val_acc_so_far = 0\n",
        "  count=0\n",
        "  res = []\n",
        "  num_epochs = search_space_params['epochs'][0]\n",
        "  in_chs = search_space_params['in_channels'][0]\n",
        "  out_chs = search_space_params['out_channels'][0]\n",
        "  print(f'Total experiments to run: {exp_count}')\n",
        "  for hid_ch in search_space_params['hidden_channels']:\n",
        "    for num_layer in search_space_params['num_layers']:\n",
        "      for dropout in search_space_params['dropout']:\n",
        "        for lr in search_space_params['lrs']:\n",
        "            for weight_decay in search_space_params['weight_decay']:\n",
        "              count+=1\n",
        "              val_accs = []\n",
        "              for exp_num in range(1, repeat_num+1): # we will repeat experiment repeat many times, to increase results reliability\n",
        "                  model_params = {'in_channels':in_chs, 'out_channels':out_chs,'hidden_channels':hid_ch, \n",
        "                                  'num_layers':num_layer, 'dropout':dropout}\n",
        "                  #print(model_params)\n",
        "                  mlp_model = MLP(**model_params).to('cuda:0')\n",
        "                  optimizer = torch.optim.Adam(mlp_model.parameters(), lr=lr, weight_decay=weight_decay) # parametrize similar to model later TODO\n",
        "\n",
        "                  for epoch in range(num_epochs):\n",
        "                    loss = train(mlp_model, optimizer, model_name='MLP', x_type=x_type, edge_type='edge_index')\n",
        "                    # print(f'Epoch: {epoch:03d}, Loss: {loss:.4f}')\n",
        "\n",
        "                  # we test our results in original data, no noise added ones \n",
        "                  # if you want to test on noised data change them to x_type=x_type and edge_type=ed_type below\n",
        "                  if evaltype =='valid':\n",
        "                    val_acc = validation(mlp_model, model_name='MLP',  x_type='x',edge_type='edge_index') \n",
        "                  elif evaltype =='test':\n",
        "                    val_acc = test(mlp_model, model_name='MLP',  x_type='x', edge_type='edge_index') \n",
        "                  val_accs.append(val_acc)\n",
        "              exp_params = model_params\n",
        "              exp_params['lr']=lr\n",
        "              exp_params['weight_decay']=weight_decay\n",
        "              exp_params['epochs']=num_epochs\n",
        "              mean_val_acc = np.mean(val_accs)\n",
        "              max_val_acc_so_far = max(max_val_acc_so_far, mean_val_acc )\n",
        "              if print_updates and count%50==0:\n",
        "                #print(f'Run exp {count}/{exp_count}: Mean Test Accuracy: {mean_test_acc:.4f}, exp parameters: {exp_params}')\n",
        "                print(f'Run exp {count}/{exp_count}: Maximum found Avg. Validation Accuracy: {max_val_acc_so_far:.4f}')\n",
        "\n",
        "\n",
        "              # TODO we can add other metrics such as runtime to log in here later\n",
        "              exp_res = {'dataset_name': dataset_name,\n",
        "                        'model_name':'GNN',  'mean_test_accuracy':mean_val_acc, \n",
        "                        'exp_params':exp_params, 'tot_experiment':repeat_num,\n",
        "                          'x_type':x_type} \n",
        "              res.append(exp_res)\n",
        "  print(f'End of experiments..\\n  Maximum found Avg. Validation Accuracy: {max_val_acc_so_far:.4f}')\n",
        "  res_df = pd.DataFrame(res, columns=exp_res.keys())\n",
        "  return res_df"
      ],
      "metadata": {
        "id": "JSs49QoAanw4"
      },
      "execution_count": null,
      "outputs": []
    },
    {
      "cell_type": "code",
      "source": [
        "search_space_params= {\n",
        "    'in_channels': [1433],\n",
        "    'hidden_channels': [5, 15, 30, 50, 100],\n",
        "    'num_layers': [2, 3, 4],\n",
        "    'out_channels': [7],\n",
        "    'dropout' : [0.1, 0.2, 0.3],\n",
        "    'epochs': [25], \n",
        "    ## optimizer parameters\n",
        "    'lrs' : [0.0001, 0.0005, 0.001, 0.005, 0.01, 0.05],\n",
        "    'weight_decay' : [1e-6, 5e-4, 1e-4, 1e-3] \n",
        "}\n"
      ],
      "metadata": {
        "id": "btWTQQQ5a9Sr"
      },
      "execution_count": null,
      "outputs": []
    },
    {
      "cell_type": "code",
      "source": [
        "data = data.to('cuda:0')\n",
        "tuning_res_df_mlp = mlp_parameter_tuning_experiment(dataset_name='Cora', \n",
        "                                search_space_params=search_space_params, \n",
        "                                data=data,\n",
        "                                eval_type='valid',\n",
        "                                repeat_num=10, \n",
        "                                print_updates=True)\n",
        "data = data.to('cpu')"
      ],
      "metadata": {
        "colab": {
          "base_uri": "https://localhost:8080/"
        },
        "id": "lt_2PsCHa94I",
        "outputId": "9e089ee4-4ba8-4d81-9c4d-0515657a2fed"
      },
      "execution_count": null,
      "outputs": [
        {
          "output_type": "stream",
          "name": "stdout",
          "text": [
            "Total experiments to run: 1080\n",
            "Run exp 50/1080: Maximum found Avg. Validation Accuracy: 0.3420\n",
            "Run exp 100/1080: Maximum found Avg. Validation Accuracy: 0.3420\n",
            "Run exp 150/1080: Maximum found Avg. Validation Accuracy: 0.3420\n",
            "Run exp 200/1080: Maximum found Avg. Validation Accuracy: 0.3420\n",
            "Run exp 250/1080: Maximum found Avg. Validation Accuracy: 0.4534\n",
            "Run exp 300/1080: Maximum found Avg. Validation Accuracy: 0.4878\n",
            "Run exp 350/1080: Maximum found Avg. Validation Accuracy: 0.4878\n",
            "Run exp 400/1080: Maximum found Avg. Validation Accuracy: 0.4878\n",
            "Run exp 450/1080: Maximum found Avg. Validation Accuracy: 0.4878\n",
            "Run exp 500/1080: Maximum found Avg. Validation Accuracy: 0.5198\n",
            "Run exp 550/1080: Maximum found Avg. Validation Accuracy: 0.5198\n",
            "Run exp 600/1080: Maximum found Avg. Validation Accuracy: 0.5198\n",
            "Run exp 650/1080: Maximum found Avg. Validation Accuracy: 0.5198\n",
            "Run exp 700/1080: Maximum found Avg. Validation Accuracy: 0.5198\n",
            "Run exp 750/1080: Maximum found Avg. Validation Accuracy: 0.5198\n",
            "Run exp 800/1080: Maximum found Avg. Validation Accuracy: 0.5198\n",
            "Run exp 850/1080: Maximum found Avg. Validation Accuracy: 0.5198\n",
            "Run exp 900/1080: Maximum found Avg. Validation Accuracy: 0.5198\n",
            "Run exp 950/1080: Maximum found Avg. Validation Accuracy: 0.5290\n",
            "Run exp 1000/1080: Maximum found Avg. Validation Accuracy: 0.5290\n",
            "Run exp 1050/1080: Maximum found Avg. Validation Accuracy: 0.5290\n",
            "End of experiments..\n",
            "  Maximum found Avg. Validation Accuracy: 0.5290\n"
          ]
        }
      ]
    },
    {
      "cell_type": "code",
      "source": [
        "tuning_res_df_mlp.to_csv('mlp_tuning_res_epoch_25.csv')"
      ],
      "metadata": {
        "id": "eDFZ6ljlbAqc"
      },
      "execution_count": null,
      "outputs": []
    },
    {
      "cell_type": "code",
      "source": [
        "tuning_res_df_mlp = tuning_res_df_mlp.sort_values(by='mean_test_accuracy', ascending=False)\n",
        "tuning_res_df_mlp.head(10)['exp_params'].values"
      ],
      "metadata": {
        "colab": {
          "base_uri": "https://localhost:8080/"
        },
        "id": "noby4u2HhFFb",
        "outputId": "c48a8d6d-d534-4989-aaef-8a49fe0b63a2"
      },
      "execution_count": null,
      "outputs": [
        {
          "output_type": "execute_result",
          "data": {
            "text/plain": [
              "array([{'in_channels': 1433, 'out_channels': 7, 'hidden_channels': 100, 'num_layers': 2, 'dropout': 0.2, 'lr': 0.05, 'weight_decay': 0.001, 'epochs': 25},\n",
              "       {'in_channels': 1433, 'out_channels': 7, 'hidden_channels': 100, 'num_layers': 2, 'dropout': 0.3, 'lr': 0.05, 'weight_decay': 0.0001, 'epochs': 25},\n",
              "       {'in_channels': 1433, 'out_channels': 7, 'hidden_channels': 30, 'num_layers': 2, 'dropout': 0.2, 'lr': 0.05, 'weight_decay': 0.001, 'epochs': 25},\n",
              "       {'in_channels': 1433, 'out_channels': 7, 'hidden_channels': 50, 'num_layers': 2, 'dropout': 0.2, 'lr': 0.05, 'weight_decay': 0.001, 'epochs': 25},\n",
              "       {'in_channels': 1433, 'out_channels': 7, 'hidden_channels': 100, 'num_layers': 2, 'dropout': 0.3, 'lr': 0.05, 'weight_decay': 0.0005, 'epochs': 25},\n",
              "       {'in_channels': 1433, 'out_channels': 7, 'hidden_channels': 50, 'num_layers': 2, 'dropout': 0.1, 'lr': 0.05, 'weight_decay': 0.001, 'epochs': 25},\n",
              "       {'in_channels': 1433, 'out_channels': 7, 'hidden_channels': 100, 'num_layers': 2, 'dropout': 0.3, 'lr': 0.05, 'weight_decay': 0.001, 'epochs': 25},\n",
              "       {'in_channels': 1433, 'out_channels': 7, 'hidden_channels': 50, 'num_layers': 2, 'dropout': 0.1, 'lr': 0.05, 'weight_decay': 0.0005, 'epochs': 25},\n",
              "       {'in_channels': 1433, 'out_channels': 7, 'hidden_channels': 50, 'num_layers': 2, 'dropout': 0.2, 'lr': 0.05, 'weight_decay': 0.0001, 'epochs': 25},\n",
              "       {'in_channels': 1433, 'out_channels': 7, 'hidden_channels': 100, 'num_layers': 2, 'dropout': 0.3, 'lr': 0.05, 'weight_decay': 1e-06, 'epochs': 25}],\n",
              "      dtype=object)"
            ]
          },
          "metadata": {},
          "execution_count": 157
        }
      ]
    },
    {
      "cell_type": "code",
      "source": [
        "tuning_res_df_mlp.head(10)"
      ],
      "metadata": {
        "colab": {
          "base_uri": "https://localhost:8080/",
          "height": 363
        },
        "id": "G5qWyi7iiVq8",
        "outputId": "981f9487-2771-4d89-ba79-ef5f86972f7e"
      },
      "execution_count": null,
      "outputs": [
        {
          "output_type": "execute_result",
          "data": {
            "text/html": [
              "\n",
              "  <div id=\"df-b6c20c59-2fdf-49bc-9acc-a5817d00ab20\">\n",
              "    <div class=\"colab-df-container\">\n",
              "      <div>\n",
              "<style scoped>\n",
              "    .dataframe tbody tr th:only-of-type {\n",
              "        vertical-align: middle;\n",
              "    }\n",
              "\n",
              "    .dataframe tbody tr th {\n",
              "        vertical-align: top;\n",
              "    }\n",
              "\n",
              "    .dataframe thead th {\n",
              "        text-align: right;\n",
              "    }\n",
              "</style>\n",
              "<table border=\"1\" class=\"dataframe\">\n",
              "  <thead>\n",
              "    <tr style=\"text-align: right;\">\n",
              "      <th></th>\n",
              "      <th>dataset_name</th>\n",
              "      <th>model_name</th>\n",
              "      <th>mean_test_accuracy</th>\n",
              "      <th>exp_params</th>\n",
              "      <th>tot_experiment</th>\n",
              "      <th>x_type</th>\n",
              "    </tr>\n",
              "  </thead>\n",
              "  <tbody>\n",
              "    <tr>\n",
              "      <th>911</th>\n",
              "      <td>Cora</td>\n",
              "      <td>GNN</td>\n",
              "      <td>0.5290</td>\n",
              "      <td>{'in_channels': 1433, 'out_channels': 7, 'hidd...</td>\n",
              "      <td>10</td>\n",
              "      <td>x</td>\n",
              "    </tr>\n",
              "    <tr>\n",
              "      <th>934</th>\n",
              "      <td>Cora</td>\n",
              "      <td>GNN</td>\n",
              "      <td>0.5238</td>\n",
              "      <td>{'in_channels': 1433, 'out_channels': 7, 'hidd...</td>\n",
              "      <td>10</td>\n",
              "      <td>x</td>\n",
              "    </tr>\n",
              "    <tr>\n",
              "      <th>479</th>\n",
              "      <td>Cora</td>\n",
              "      <td>GNN</td>\n",
              "      <td>0.5198</td>\n",
              "      <td>{'in_channels': 1433, 'out_channels': 7, 'hidd...</td>\n",
              "      <td>10</td>\n",
              "      <td>x</td>\n",
              "    </tr>\n",
              "    <tr>\n",
              "      <th>695</th>\n",
              "      <td>Cora</td>\n",
              "      <td>GNN</td>\n",
              "      <td>0.5168</td>\n",
              "      <td>{'in_channels': 1433, 'out_channels': 7, 'hidd...</td>\n",
              "      <td>10</td>\n",
              "      <td>x</td>\n",
              "    </tr>\n",
              "    <tr>\n",
              "      <th>933</th>\n",
              "      <td>Cora</td>\n",
              "      <td>GNN</td>\n",
              "      <td>0.5108</td>\n",
              "      <td>{'in_channels': 1433, 'out_channels': 7, 'hidd...</td>\n",
              "      <td>10</td>\n",
              "      <td>x</td>\n",
              "    </tr>\n",
              "    <tr>\n",
              "      <th>671</th>\n",
              "      <td>Cora</td>\n",
              "      <td>GNN</td>\n",
              "      <td>0.5090</td>\n",
              "      <td>{'in_channels': 1433, 'out_channels': 7, 'hidd...</td>\n",
              "      <td>10</td>\n",
              "      <td>x</td>\n",
              "    </tr>\n",
              "    <tr>\n",
              "      <th>935</th>\n",
              "      <td>Cora</td>\n",
              "      <td>GNN</td>\n",
              "      <td>0.5058</td>\n",
              "      <td>{'in_channels': 1433, 'out_channels': 7, 'hidd...</td>\n",
              "      <td>10</td>\n",
              "      <td>x</td>\n",
              "    </tr>\n",
              "    <tr>\n",
              "      <th>669</th>\n",
              "      <td>Cora</td>\n",
              "      <td>GNN</td>\n",
              "      <td>0.5054</td>\n",
              "      <td>{'in_channels': 1433, 'out_channels': 7, 'hidd...</td>\n",
              "      <td>10</td>\n",
              "      <td>x</td>\n",
              "    </tr>\n",
              "    <tr>\n",
              "      <th>694</th>\n",
              "      <td>Cora</td>\n",
              "      <td>GNN</td>\n",
              "      <td>0.4990</td>\n",
              "      <td>{'in_channels': 1433, 'out_channels': 7, 'hidd...</td>\n",
              "      <td>10</td>\n",
              "      <td>x</td>\n",
              "    </tr>\n",
              "    <tr>\n",
              "      <th>932</th>\n",
              "      <td>Cora</td>\n",
              "      <td>GNN</td>\n",
              "      <td>0.4976</td>\n",
              "      <td>{'in_channels': 1433, 'out_channels': 7, 'hidd...</td>\n",
              "      <td>10</td>\n",
              "      <td>x</td>\n",
              "    </tr>\n",
              "  </tbody>\n",
              "</table>\n",
              "</div>\n",
              "      <button class=\"colab-df-convert\" onclick=\"convertToInteractive('df-b6c20c59-2fdf-49bc-9acc-a5817d00ab20')\"\n",
              "              title=\"Convert this dataframe to an interactive table.\"\n",
              "              style=\"display:none;\">\n",
              "        \n",
              "  <svg xmlns=\"http://www.w3.org/2000/svg\" height=\"24px\"viewBox=\"0 0 24 24\"\n",
              "       width=\"24px\">\n",
              "    <path d=\"M0 0h24v24H0V0z\" fill=\"none\"/>\n",
              "    <path d=\"M18.56 5.44l.94 2.06.94-2.06 2.06-.94-2.06-.94-.94-2.06-.94 2.06-2.06.94zm-11 1L8.5 8.5l.94-2.06 2.06-.94-2.06-.94L8.5 2.5l-.94 2.06-2.06.94zm10 10l.94 2.06.94-2.06 2.06-.94-2.06-.94-.94-2.06-.94 2.06-2.06.94z\"/><path d=\"M17.41 7.96l-1.37-1.37c-.4-.4-.92-.59-1.43-.59-.52 0-1.04.2-1.43.59L10.3 9.45l-7.72 7.72c-.78.78-.78 2.05 0 2.83L4 21.41c.39.39.9.59 1.41.59.51 0 1.02-.2 1.41-.59l7.78-7.78 2.81-2.81c.8-.78.8-2.07 0-2.86zM5.41 20L4 18.59l7.72-7.72 1.47 1.35L5.41 20z\"/>\n",
              "  </svg>\n",
              "      </button>\n",
              "      \n",
              "  <style>\n",
              "    .colab-df-container {\n",
              "      display:flex;\n",
              "      flex-wrap:wrap;\n",
              "      gap: 12px;\n",
              "    }\n",
              "\n",
              "    .colab-df-convert {\n",
              "      background-color: #E8F0FE;\n",
              "      border: none;\n",
              "      border-radius: 50%;\n",
              "      cursor: pointer;\n",
              "      display: none;\n",
              "      fill: #1967D2;\n",
              "      height: 32px;\n",
              "      padding: 0 0 0 0;\n",
              "      width: 32px;\n",
              "    }\n",
              "\n",
              "    .colab-df-convert:hover {\n",
              "      background-color: #E2EBFA;\n",
              "      box-shadow: 0px 1px 2px rgba(60, 64, 67, 0.3), 0px 1px 3px 1px rgba(60, 64, 67, 0.15);\n",
              "      fill: #174EA6;\n",
              "    }\n",
              "\n",
              "    [theme=dark] .colab-df-convert {\n",
              "      background-color: #3B4455;\n",
              "      fill: #D2E3FC;\n",
              "    }\n",
              "\n",
              "    [theme=dark] .colab-df-convert:hover {\n",
              "      background-color: #434B5C;\n",
              "      box-shadow: 0px 1px 3px 1px rgba(0, 0, 0, 0.15);\n",
              "      filter: drop-shadow(0px 1px 2px rgba(0, 0, 0, 0.3));\n",
              "      fill: #FFFFFF;\n",
              "    }\n",
              "  </style>\n",
              "\n",
              "      <script>\n",
              "        const buttonEl =\n",
              "          document.querySelector('#df-b6c20c59-2fdf-49bc-9acc-a5817d00ab20 button.colab-df-convert');\n",
              "        buttonEl.style.display =\n",
              "          google.colab.kernel.accessAllowed ? 'block' : 'none';\n",
              "\n",
              "        async function convertToInteractive(key) {\n",
              "          const element = document.querySelector('#df-b6c20c59-2fdf-49bc-9acc-a5817d00ab20');\n",
              "          const dataTable =\n",
              "            await google.colab.kernel.invokeFunction('convertToInteractive',\n",
              "                                                     [key], {});\n",
              "          if (!dataTable) return;\n",
              "\n",
              "          const docLinkHtml = 'Like what you see? Visit the ' +\n",
              "            '<a target=\"_blank\" href=https://colab.research.google.com/notebooks/data_table.ipynb>data table notebook</a>'\n",
              "            + ' to learn more about interactive tables.';\n",
              "          element.innerHTML = '';\n",
              "          dataTable['output_type'] = 'display_data';\n",
              "          await google.colab.output.renderOutput(dataTable, element);\n",
              "          const docLink = document.createElement('div');\n",
              "          docLink.innerHTML = docLinkHtml;\n",
              "          element.appendChild(docLink);\n",
              "        }\n",
              "      </script>\n",
              "    </div>\n",
              "  </div>\n",
              "  "
            ],
            "text/plain": [
              "    dataset_name model_name  mean_test_accuracy  \\\n",
              "911         Cora        GNN              0.5290   \n",
              "934         Cora        GNN              0.5238   \n",
              "479         Cora        GNN              0.5198   \n",
              "695         Cora        GNN              0.5168   \n",
              "933         Cora        GNN              0.5108   \n",
              "671         Cora        GNN              0.5090   \n",
              "935         Cora        GNN              0.5058   \n",
              "669         Cora        GNN              0.5054   \n",
              "694         Cora        GNN              0.4990   \n",
              "932         Cora        GNN              0.4976   \n",
              "\n",
              "                                            exp_params  tot_experiment x_type  \n",
              "911  {'in_channels': 1433, 'out_channels': 7, 'hidd...              10      x  \n",
              "934  {'in_channels': 1433, 'out_channels': 7, 'hidd...              10      x  \n",
              "479  {'in_channels': 1433, 'out_channels': 7, 'hidd...              10      x  \n",
              "695  {'in_channels': 1433, 'out_channels': 7, 'hidd...              10      x  \n",
              "933  {'in_channels': 1433, 'out_channels': 7, 'hidd...              10      x  \n",
              "671  {'in_channels': 1433, 'out_channels': 7, 'hidd...              10      x  \n",
              "935  {'in_channels': 1433, 'out_channels': 7, 'hidd...              10      x  \n",
              "669  {'in_channels': 1433, 'out_channels': 7, 'hidd...              10      x  \n",
              "694  {'in_channels': 1433, 'out_channels': 7, 'hidd...              10      x  \n",
              "932  {'in_channels': 1433, 'out_channels': 7, 'hidd...              10      x  "
            ]
          },
          "metadata": {},
          "execution_count": 158
        }
      ]
    }
  ]
}